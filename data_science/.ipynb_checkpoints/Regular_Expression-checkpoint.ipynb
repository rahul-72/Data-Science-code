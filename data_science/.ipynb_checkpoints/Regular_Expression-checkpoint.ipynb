{
 "cells": [
  {
   "cell_type": "code",
   "execution_count": 1,
   "metadata": {},
   "outputs": [],
   "source": [
    "import re"
   ]
  },
  {
   "cell_type": "markdown",
   "metadata": {},
   "source": [
    "https://regexr.com/"
   ]
  },
  {
   "cell_type": "code",
   "execution_count": 17,
   "metadata": {},
   "outputs": [],
   "source": [
    "s = \"hello world how are you let's talk about world class. hello$123 bye-123\""
   ]
  },
  {
   "cell_type": "code",
   "execution_count": 23,
   "metadata": {},
   "outputs": [
    {
     "name": "stdout",
     "output_type": "stream",
     "text": [
      "hello world how are you let's talk about world class. hello$123 bye-123\n",
      "[' how ', ' you ']\n"
     ]
    }
   ],
   "source": [
    "all_pat = re.findall(r\" \\w\\w\\w \",s)\n",
    "print(s)\n",
    "print(all_pat)\n"
   ]
  },
  {
   "cell_type": "code",
   "execution_count": 25,
   "metadata": {},
   "outputs": [
    {
     "data": {
      "text/plain": [
       "[' ', ' ', ' ', ' ', ' ', \"'\", ' ', ' ', ' ', ' ', '.', ' ', '$', ' ', '-']"
      ]
     },
     "execution_count": 25,
     "metadata": {},
     "output_type": "execute_result"
    }
   ],
   "source": [
    "re.findall(r\"\\W\",s)"
   ]
  },
  {
   "cell_type": "code",
   "execution_count": 26,
   "metadata": {},
   "outputs": [],
   "source": [
    "data = \"let's find out only 5 digit number 12345 in this text 12334 123 123 23\""
   ]
  },
  {
   "cell_type": "code",
   "execution_count": 27,
   "metadata": {},
   "outputs": [],
   "source": [
    "# \\d --> digit 0-9"
   ]
  },
  {
   "cell_type": "code",
   "execution_count": 32,
   "metadata": {},
   "outputs": [],
   "source": [
    "data = \"\"\"hello world\n",
    "just find me 5 digit number form thi sdat a 12334 jfldsjf 343434 \n",
    "4444-4444-4444\n",
    "aslkfjsdklfj ds34343 alksjfdlkdsj\n",
    "salkfjds\n",
    "\n",
    "6666-6666-6666\n",
    "fjalsf\n",
    "\n",
    "1232-2323-4556\n",
    "dsfksdfjksdfj  al;ksdfj sdfjdl s\n",
    "56547973498274\n",
    "1232-1231-2321\n",
    "a;lsjfs fldsj 92374927494  slkfjkslfj sdf 43244\n",
    "laskjflksdjf a;lsfkjsd ; 34792\"\"\""
   ]
  },
  {
   "cell_type": "code",
   "execution_count": 33,
   "metadata": {},
   "outputs": [
    {
     "name": "stdout",
     "output_type": "stream",
     "text": [
      "[' 12334', ' 34343', ' 92374', ' 43244', ' 34792']\n"
     ]
    }
   ],
   "source": [
    "print(re.findall(r\" \\d\\d\\d\\d\\d\",data))"
   ]
  },
  {
   "cell_type": "markdown",
   "metadata": {},
   "source": [
    "https://www.rexegg.com/regex-quickstart.html"
   ]
  },
  {
   "cell_type": "code",
   "execution_count": 35,
   "metadata": {},
   "outputs": [],
   "source": [
    "data = \"\"\"293748927984728934732sdfojfoiu293479283749827394872394sdjaflk;j\n",
    "a;sljf;lsdklfjslk 29837198047329847982037409237984723 213847923b3 423427389047 2389472jsf;j\n",
    "lsajflsdjf \n",
    "\"\"\""
   ]
  },
  {
   "cell_type": "code",
   "execution_count": 37,
   "metadata": {},
   "outputs": [],
   "source": [
    "r = re.sub(r'\\D','',data)"
   ]
  },
  {
   "cell_type": "code",
   "execution_count": 38,
   "metadata": {},
   "outputs": [
    {
     "data": {
      "text/plain": [
       "'2937489279847289347322934792837498273948723942983719804732984798203740923798472321384792334234273890472389472'"
      ]
     },
     "execution_count": 38,
     "metadata": {},
     "output_type": "execute_result"
    }
   ],
   "source": [
    "r"
   ]
  },
  {
   "cell_type": "code",
   "execution_count": 41,
   "metadata": {},
   "outputs": [
    {
     "name": "stdout",
     "output_type": "stream",
     "text": [
      "['hel', 'lo ', 'wor', 'ld ', 'how', ' ar', 'e y', 'ou ', 'let', \"'s \", 'tal', 'k a', 'bou', 't w', 'orl', 'd c', 'las', 's. ', 'hel', 'lo$', '123', ' by', 'e-1']\n"
     ]
    }
   ],
   "source": [
    "d = re.findall(r\"...\",s)\n",
    "print(d)"
   ]
  },
  {
   "cell_type": "code",
   "execution_count": 47,
   "metadata": {},
   "outputs": [],
   "source": [
    "data = \"pythen is an pyhton awesome PYTHON language. Pythin is developed as Python so pythan\""
   ]
  },
  {
   "cell_type": "code",
   "execution_count": 61,
   "metadata": {},
   "outputs": [
    {
     "data": {
      "text/plain": [
       "['pythen', 'pyhton', 'PYTHON', 'Pythin', 'Python', 'pythan']"
      ]
     },
     "execution_count": 61,
     "metadata": {},
     "output_type": "execute_result"
    }
   ],
   "source": [
    "re.findall(r\"py...n\",data,flags=re.IGNORECASE)"
   ]
  },
  {
   "cell_type": "code",
   "execution_count": 66,
   "metadata": {},
   "outputs": [],
   "source": [
    "result = re.sub(r\"p....n\",\"PYTHON\",data,flags=re.I)"
   ]
  },
  {
   "cell_type": "code",
   "execution_count": 65,
   "metadata": {},
   "outputs": [
    {
     "name": "stdout",
     "output_type": "stream",
     "text": [
      "PYTHON is an PYTHON awesome PYTHON language. PYTHON is developed as PYTHON so PYTHON\n"
     ]
    }
   ],
   "source": [
    "print(result)"
   ]
  },
  {
   "cell_type": "code",
   "execution_count": 68,
   "metadata": {},
   "outputs": [
    {
     "data": {
      "text/plain": [
       "['lasdjflkjsdf', '']"
      ]
     },
     "execution_count": 68,
     "metadata": {},
     "output_type": "execute_result"
    }
   ],
   "source": [
    "re.findall(\".*\",\"lasdjflkjsdf\") # greedy "
   ]
  },
  {
   "cell_type": "code",
   "execution_count": 71,
   "metadata": {},
   "outputs": [
    {
     "data": {
      "text/plain": [
       "['a',\n",
       " '',\n",
       " '',\n",
       " '',\n",
       " '',\n",
       " 'aa',\n",
       " '',\n",
       " '',\n",
       " '',\n",
       " '',\n",
       " 'aaaa',\n",
       " '',\n",
       " '',\n",
       " '',\n",
       " '',\n",
       " '',\n",
       " '',\n",
       " '',\n",
       " '',\n",
       " 'aaaa',\n",
       " '',\n",
       " '',\n",
       " '',\n",
       " '',\n",
       " '',\n",
       " '',\n",
       " '',\n",
       " '',\n",
       " '',\n",
       " 'aaaaa',\n",
       " '',\n",
       " '',\n",
       " '',\n",
       " '',\n",
       " '',\n",
       " '',\n",
       " '',\n",
       " 'aaaa',\n",
       " '',\n",
       " '']"
      ]
     },
     "execution_count": 71,
     "metadata": {},
     "output_type": "execute_result"
    }
   ],
   "source": [
    "re.findall(\"a*\",\"a is aa is aaaa is not aaaa is good aaaaa let's aaaa \")"
   ]
  },
  {
   "cell_type": "code",
   "execution_count": 72,
   "metadata": {},
   "outputs": [
    {
     "data": {
      "text/plain": [
       "['a', 'aa', 'aaaa', 'aaaa', 'aaaaa', 'aaaa']"
      ]
     },
     "execution_count": 72,
     "metadata": {},
     "output_type": "execute_result"
    }
   ],
   "source": [
    "re.findall(\"a+\",\"a is aa is aaaa is not aaaa is good aaaaa let's aaaa \")"
   ]
  },
  {
   "cell_type": "code",
   "execution_count": 81,
   "metadata": {},
   "outputs": [
    {
     "name": "stdout",
     "output_type": "stream",
     "text": [
      "pythen is an pyhton awesome PYTHON language. \n",
      "Pythin is developed as Python so pythan\n",
      "\n",
      "p^$adfn\n",
      "p1234324324324324234324n\n",
      "\n"
     ]
    },
    {
     "data": {
      "text/plain": [
       "['pythen',\n",
       " 'pyhton',\n",
       " 'PYTHON',\n",
       " 'Pythin',\n",
       " 'Python',\n",
       " 'pythan',\n",
       " 'p1234324324324324234324n']"
      ]
     },
     "execution_count": 81,
     "metadata": {},
     "output_type": "execute_result"
    }
   ],
   "source": [
    "data = \"\"\"pythen is an pyhton awesome PYTHON language. \n",
    "Pythin is developed as Python so pythan\n",
    "\n",
    "p^$adfn\n",
    "p1234324324324324234324n\n",
    "\"\"\"\n",
    "print(data)\n",
    "re.findall(r\"p\\w*n\",data,flags=re.IGNORECASE)"
   ]
  },
  {
   "cell_type": "code",
   "execution_count": 86,
   "metadata": {},
   "outputs": [
    {
     "name": "stdout",
     "output_type": "stream",
     "text": [
      "pythen is an pyhton awesome PYTHON language. \n",
      "Pythin is developed as Python so pythan\n",
      "\n",
      "p^$adfn\n",
      "p1234324324324324234324n\n",
      "\n"
     ]
    },
    {
     "data": {
      "text/plain": [
       "['pythen', 'pyhton', 'PYTHON', 'Pythin', 'Python', 'pythan']"
      ]
     },
     "execution_count": 86,
     "metadata": {},
     "output_type": "execute_result"
    }
   ],
   "source": [
    "data = \"\"\"pythen is an pyhton awesome PYTHON language. \n",
    "Pythin is developed as Python so pythan\n",
    "\n",
    "p^$adfn\n",
    "p1234324324324324234324n\n",
    "\"\"\"\n",
    "print(data)\n",
    "re.findall(r\"p\\w{4}n\",data,flags=re.IGNORECASE)"
   ]
  },
  {
   "cell_type": "code",
   "execution_count": 87,
   "metadata": {},
   "outputs": [],
   "source": [
    "s = \"\"\"\n",
    "hello i am fine fully let's understand\n",
    "pythonly as titly as naughtly let' apply\n",
    "some ly words and search them\n",
    "fully, optionally aksjfls djfsd \n",
    "hopefully lasjf sdf\n",
    "\n",
    "\"\"\""
   ]
  },
  {
   "cell_type": "code",
   "execution_count": 88,
   "metadata": {},
   "outputs": [
    {
     "data": {
      "text/plain": [
       "['fully',\n",
       " 'pythonly',\n",
       " 'titly',\n",
       " 'naughtly',\n",
       " 'apply',\n",
       " 'fully',\n",
       " 'optionally',\n",
       " 'hopefully']"
      ]
     },
     "execution_count": 88,
     "metadata": {},
     "output_type": "execute_result"
    }
   ],
   "source": [
    "re.findall(r\"\\w+ly\",s)"
   ]
  },
  {
   "cell_type": "code",
   "execution_count": 96,
   "metadata": {},
   "outputs": [],
   "source": [
    "data = \"hello world, bye world\""
   ]
  },
  {
   "cell_type": "code",
   "execution_count": 91,
   "metadata": {},
   "outputs": [
    {
     "data": {
      "text/plain": [
       "['e', 'o', 'o', 'e', 'o']"
      ]
     },
     "execution_count": 91,
     "metadata": {},
     "output_type": "execute_result"
    }
   ],
   "source": [
    "re.findall(\"[aeiou]\",data)"
   ]
  },
  {
   "cell_type": "code",
   "execution_count": 102,
   "metadata": {},
   "outputs": [],
   "source": [
    "data = \"12394934 239473289b492874b 12343974983 927398473 123498724\""
   ]
  },
  {
   "cell_type": "code",
   "execution_count": 106,
   "metadata": {},
   "outputs": [
    {
     "data": {
      "text/plain": [
       "['12394934', '239473289', '2874', '12343974983', '27398473', '123498724']"
      ]
     },
     "execution_count": 106,
     "metadata": {},
     "output_type": "execute_result"
    }
   ],
   "source": [
    "re.findall(\"[123]\\d*\",data)"
   ]
  },
  {
   "cell_type": "code",
   "execution_count": 100,
   "metadata": {},
   "outputs": [
    {
     "name": "stdout",
     "output_type": "stream",
     "text": [
      "['h', 'l', 'l', ' ', 'w', 'r', 'l', 'd', ',', ' ', 'b', 'y', ' ', 'w', 'r', 'l', 'd']\n"
     ]
    }
   ],
   "source": [
    "data = \"hello world, bye world\"\n",
    "print(re.findall(\"[^aeiou]\",data))\n"
   ]
  },
  {
   "cell_type": "code",
   "execution_count": 107,
   "metadata": {},
   "outputs": [],
   "source": [
    "most_common = \"\"\"\n",
    "hello mayor\n",
    "mayer is mayar can miyar or mayurr\n",
    "mayir\n",
    "\n",
    "\"\"\""
   ]
  },
  {
   "cell_type": "code",
   "execution_count": 111,
   "metadata": {},
   "outputs": [],
   "source": [
    "may = re.sub(r\"m[aeiou]y[aeiou]rr?\",\"mayer\",most_common)"
   ]
  },
  {
   "cell_type": "code",
   "execution_count": 113,
   "metadata": {},
   "outputs": [
    {
     "name": "stdout",
     "output_type": "stream",
     "text": [
      "\n",
      "hello mayer\n",
      "mayer is mayer can mayer or mayer\n",
      "mayer\n",
      "\n",
      "\n"
     ]
    }
   ],
   "source": [
    "print(may)"
   ]
  },
  {
   "cell_type": "code",
   "execution_count": 114,
   "metadata": {},
   "outputs": [],
   "source": [
    "data = \"\"\"\n",
    "123 asdfkljslf 234ksafjsdjf 092342374 32947913874 29843793 56098054\n",
    "lajsfljdslfj 23479734 \n",
    "9384739847  fjjaflksd f 89324349834\n",
    "134454 213894234\n",
    "\"\"\""
   ]
  },
  {
   "cell_type": "code",
   "execution_count": 118,
   "metadata": {},
   "outputs": [
    {
     "data": {
      "text/plain": [
       "['123',\n",
       " '234',\n",
       " '92342374',\n",
       " '2947913874',\n",
       " '29843793',\n",
       " '98054',\n",
       " '23479734',\n",
       " '9384739847',\n",
       " '89324349834',\n",
       " '134454',\n",
       " '213894234']"
      ]
     },
     "execution_count": 118,
     "metadata": {},
     "output_type": "execute_result"
    }
   ],
   "source": [
    "re.findall(r\"[12|89]\\d*\",data)"
   ]
  },
  {
   "cell_type": "code",
   "execution_count": 129,
   "metadata": {},
   "outputs": [],
   "source": [
    "data = \"\"\"yes i am in \n",
    "and you are also in \n",
    "not welcome you in someing\n",
    "python is good for health.\n",
    "the python is awesome\n",
    "let's play python\n",
    "the language is goood\n",
    "Python always good\"\"\""
   ]
  },
  {
   "cell_type": "code",
   "execution_count": 130,
   "metadata": {},
   "outputs": [
    {
     "data": {
      "text/plain": [
       "['python is good for health.',\n",
       " 'the python is awesome',\n",
       " 'python',\n",
       " 'the language is goood',\n",
       " 'Python always good']"
      ]
     },
     "execution_count": 130,
     "metadata": {},
     "output_type": "execute_result"
    }
   ],
   "source": [
    "\n",
    "re.findall(r\"python.*|the.*\",data,flags=re.I)"
   ]
  },
  {
   "cell_type": "code",
   "execution_count": 131,
   "metadata": {},
   "outputs": [],
   "source": [
    "data = \"hello. somehting. good. * something\""
   ]
  },
  {
   "cell_type": "code",
   "execution_count": 139,
   "metadata": {},
   "outputs": [
    {
     "data": {
      "text/plain": [
       "['. somehting', '. good', '. ', '* something']"
      ]
     },
     "execution_count": 139,
     "metadata": {},
     "output_type": "execute_result"
    }
   ],
   "source": [
    "re.findall(r\"\\. \\w*|\\*.*\",data)"
   ]
  },
  {
   "cell_type": "code",
   "execution_count": 164,
   "metadata": {},
   "outputs": [],
   "source": [
    "s = \"\"\"python is good language.\n",
    "i am used use python.\n",
    "python is awesome.\"\"\"\n"
   ]
  },
  {
   "cell_type": "code",
   "execution_count": 165,
   "metadata": {},
   "outputs": [
    {
     "data": {
      "text/plain": [
       "['python ', 'python ']"
      ]
     },
     "execution_count": 165,
     "metadata": {},
     "output_type": "execute_result"
    }
   ],
   "source": [
    "# ^ used for start $ end \n",
    "r = []\n",
    "for line in s.split('\\n') : \n",
    "    data = re.findall(\"^python.\",line,flags=re.I)\n",
    "    if data : \n",
    "        r.append(*data)\n",
    "r"
   ]
  },
  {
   "cell_type": "code",
   "execution_count": 168,
   "metadata": {},
   "outputs": [
    {
     "data": {
      "text/plain": [
       "['i am used use python.']"
      ]
     },
     "execution_count": 168,
     "metadata": {},
     "output_type": "execute_result"
    }
   ],
   "source": [
    "# ^ used for start $ end \n",
    "r = []\n",
    "for line in s.split('\\n') : \n",
    "    data = re.findall(\".*python\\.$\",line,flags=re.I)\n",
    "    if data : \n",
    "        r.append(*data)\n",
    "r"
   ]
  },
  {
   "cell_type": "code",
   "execution_count": 169,
   "metadata": {},
   "outputs": [
    {
     "name": "stdout",
     "output_type": "stream",
     "text": [
      "python is awesome\n",
      "good to go\n"
     ]
    }
   ],
   "source": [
    "for var in \"python is awesome\\ngood to go\".split('\\n') : \n",
    "    print(var)"
   ]
  },
  {
   "cell_type": "code",
   "execution_count": 158,
   "metadata": {},
   "outputs": [
    {
     "data": {
      "text/plain": [
       "'python is good language.\\ni am used use python.\\npython is awesome.'"
      ]
     },
     "execution_count": 158,
     "metadata": {},
     "output_type": "execute_result"
    }
   ],
   "source": [
    "s"
   ]
  },
  {
   "cell_type": "code",
   "execution_count": 170,
   "metadata": {},
   "outputs": [],
   "source": [
    "s = \"hello world how are you\""
   ]
  },
  {
   "cell_type": "code",
   "execution_count": 171,
   "metadata": {},
   "outputs": [
    {
     "data": {
      "text/plain": [
       "['hello', 'world', 'how', 'are', 'you']"
      ]
     },
     "execution_count": 171,
     "metadata": {},
     "output_type": "execute_result"
    }
   ],
   "source": [
    "re.split(r\" \",s)"
   ]
  },
  {
   "cell_type": "code",
   "execution_count": 172,
   "metadata": {},
   "outputs": [],
   "source": [
    "data = \"\"\"yes i am in \n",
    "and you are also in \n",
    "not welcome you in someing\n",
    "python is good for health.\n",
    "the python is awesome\n",
    "let's play python\n",
    "the language is goood\n",
    "Python always good\"\"\"\n",
    "\n"
   ]
  },
  {
   "cell_type": "code",
   "execution_count": 174,
   "metadata": {},
   "outputs": [
    {
     "name": "stdout",
     "output_type": "stream",
     "text": [
      "['yes i am in \\nand you are also in \\nnot welcome you in someing\\n', 'python', ' is good for health.\\n', 'the', ' ', 'python', \" is awesome\\nlet's play \", 'python', '\\n', 'the', ' language is goood\\n', 'Python', ' always good']\n"
     ]
    }
   ],
   "source": [
    "print(re.split(r\"(python|the)\",data,flags=re.I))"
   ]
  },
  {
   "cell_type": "code",
   "execution_count": null,
   "metadata": {},
   "outputs": [],
   "source": []
  }
 ],
 "metadata": {
  "kernelspec": {
   "display_name": "Python 3",
   "language": "python",
   "name": "python3"
  },
  "language_info": {
   "codemirror_mode": {
    "name": "ipython",
    "version": 3
   },
   "file_extension": ".py",
   "mimetype": "text/x-python",
   "name": "python",
   "nbconvert_exporter": "python",
   "pygments_lexer": "ipython3",
   "version": "3.7.0"
  }
 },
 "nbformat": 4,
 "nbformat_minor": 2
}
