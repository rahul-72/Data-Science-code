{
 "cells": [
  {
   "cell_type": "code",
   "execution_count": 6,
   "metadata": {},
   "outputs": [],
   "source": [
    "f  = open(\"hackers.log\",encoding='latin1') # ISO-, ascii, unicodes"
   ]
  },
  {
   "cell_type": "code",
   "execution_count": 7,
   "metadata": {},
   "outputs": [],
   "source": [
    "data = f.read()"
   ]
  },
  {
   "cell_type": "code",
   "execution_count": 8,
   "metadata": {},
   "outputs": [],
   "source": [
    "f.close()"
   ]
  },
  {
   "cell_type": "code",
   "execution_count": 10,
   "metadata": {},
   "outputs": [
    {
     "name": "stdout",
     "output_type": "stream",
     "text": [
      "--- Log opened Tue Sep 20 00:01:49 2016\n",
      "00:01 -!- Guest40341 [AndChat2541@AN-pl0gl1.8e2d.64f9.r226rd.IP] has quit [Quit: Bye]\n",
      "00:11 -!- peejr [peeejr@AN-sru.3ib.ec0efc.IP] has joined #hackers\n",
      "00:14 -!- Gilgamesh [Gilgamesh@AN-nkf.mv0.se355c.IP] has joined #hackers\n",
      "00:15 -!- _CyBruh_ [-Cybruh@AN-gm6.oj9.rj1tv4.IP] has quit [Quit: Leaving]\n",
      "00:20 -!- peejr [peeejr@AN-sru.3ib.ec0efc.IP] has quit [Quit: Leaving]\n",
      "00:25 < ice231> anyone good with exploiting cisco asa with extrabacon?\n",
      "00:27 < ice231> we need help with an op but were stuck at this one part\n",
      "00:27 -!- Bobseviltwin [steven@stupid.hunkey.monkey] has quit [Ping timeout: 121 seconds]\n",
      "00:30 -!- Gilgamesh [Gilgamesh@AN-nkf.mv0.se355c.IP] has quit [Quit: Leaving]\n",
      "00:30 -!- peejr [peeejr@AN-sru.3ib.ec0efc.IP] has joined #hackers\n",
      "00:34 -!- peejr [peeejr@AN-sru.3ib.ec0efc.IP] has quit [Quit: Leaving]\n",
      "00:34 -!- peejr [peeejr@AN-sru.3ib.ec0efc.IP] has joined #hackers\n",
      "00:35 -!- Anonymous5 [Anonymous5@AN-tu4.e85.r2ddjo.IP] has joined #hackers\n",
      "00:35 -!- lazyNitr0 [resistant@AN-kjb.6km.8lhfko.IP] has quit [Quit: Never quit!!]\n",
      "00:35 -!- peejr [peeejr@AN-sru.3ib.ec0efc.IP] has quit [Quit: Leaving]\n",
      "00:36 -!- peejr [peeejr@AN-sru.3ib.ec0efc.IP] has joined #hackers\n",
      "00:36 -!- Nitr0 [resistant@AN-kjb.6km.8lhfko.IP] has joined #hackers\n",
      "00:41 -!- peejr [peeejr@AN-sru.3ib.ec0efc.IP] has quit [Quit: Leaving]\n",
      "00:44 -!- SiliconAlchemist [anon@technoalchemy.com] has left #hackers []\n",
      "00:45 -!- Anonymous5 [Anonymous5@AN-tu4.e85.r2ddjo.IP] has quit [Ping timeout: 121 seconds]\n",
      "00:47 -!- ice231 [ice231@AN-8ak.iq1.hl67p8.IP] has quit [Ping timeout: 121 seconds]\n",
      "00:48 -!- keddy [lulzface@k.e.d.d.y] has quit [Connection closed]\n",
      "00:50 -!- ice231 [ice231@AN-6ks.fag.lh60mn.IP] has joined #hackers\n",
      "01:08 -!- S0ldierF0rever [S0ldierF0re@AN-5ms.4a0.9sk9lp.IP] has quit [Ping timeout: 121 seconds]\n",
      "01:15 -!- HeavenGuard [webirc@AN-o8o.sb7.2n2b0e.IP] has joined #hackers\n",
      "01:17 < HeavenGuard> hello?\n",
      "01:17 <+nemecy> hi\n",
      "01:22 -!- lulzdrone [lulz@drone.incoming.pew.pews] has joined #hackers\n",
      "01:23 < ice231> hi\n",
      "01:25 -!- Guest31645 [androirc@AN-l8e.7dp.8hdu3q.IP] has joined #hackers\n",
      "01:29 -!- dedocne [Unknown@AN-6mk.97v.o0pdt6.IP] has quit [Quit: When 2+2 = You, iPoo, by Apple]\n",
      "01:30 -!- hellboy [prudent@AN-r5g.h92.dq7njm.IP] has joined #hackers\n",
      "01:31 -!- hellboy is now known as Guest26312\n",
      "01:33 -!- Guest31674 [prudent@AN-r5g.h92.dq7njm.IP] has quit [Ping timeout: 121 seconds]\n",
      "01:37 -!- AndroUser2 [androirc@AN-l8e.7dp.8hdu3q.IP] has joined #hackers\n",
      "01:37 -!- Guest31645 [androirc@AN-l8e.7dp.8hdu3q.IP] has quit [Connection closed]\n",
      "01:38 -!- AndroUser2 is now known as Guest25727\n",
      "01:44 -!- peejr [peeejr@AN-sru.3ib.ec0efc.IP] has joined #hackers\n",
      "01:45 -!- Guest25727 [androirc@AN-l8e.7dp.8hdu3q.IP] has quit [Connection closed]\n",
      "01:45 -!- Guest25727 [androirc@AN-l8e.7dp.8hdu3q.IP] has joined #hackers\n",
      "01:48 -!- HeavenGuard [webirc@AN-o8o.sb7.2n2b0e.IP] has quit [Quit: Web client closed]\n",
      "01:51 -!- [CyBruh] [Cybruh@AN-gm6.oj9.rj1tv4.IP] has joined #hackers\n",
      "01:53 -!- AndroUser2 [androirc@AN-l8e.7dp.8hdu3q.IP] has joined #hackers\n",
      "01:53 -!- Guest25727 [androirc@AN-l8e.7dp.8hdu3q.IP] has quit [Connection closed]\n",
      "01:54 -!- AndroUser2 is now known as Guest17978\n",
      "01:55 -!- Guest17978 [androirc@AN-l8e.7dp.8hdu3q.IP] has quit [Connection closed]\n",
      "01:55 -!- AndroUser2 [androirc@AN-l8e.7dp.8hdu3q.IP] has joined #hackers\n",
      "01:56 -!- AndroUser2 is now known as Guest65262\n",
      "01:57 -!- Guest65262 [androirc@AN-l8e.7dp.8hdu3q.IP] has quit [Connection closed]\n",
      "01:58 -!- Guest65262 [androirc@AN-l8e.7dp.8hdu3q.IP] has joined #hackers\n",
      "01:58 -!- peejr [peeejr@AN-sru.3ib.ec0efc.IP] has quit [Quit: This computer has gone to sleep]\n",
      "01:59 -!- Guest65262 [androirc@AN-l8e.7dp.8hdu3q.IP] has quit [Connection closed]\n",
      "01:59 -!- superstar_killers [superstar_@everything.is.awesome] has joined #hackers\n",
      "02:01 -!- peejr [peeejr@AN-sru.3ib.ec0efc.IP] has joined #hackers\n",
      "02:01 -!- [CyBruh] [Cybruh@AN-gm6.oj9.rj1tv4.IP] has quit [Quit: Leaving]\n",
      "02:01 -!- [CyBruh] [Cybruh@AN-gm6.oj9.rj1tv4.IP] has joined #hackers\n",
      "02:15 -!- [CyBruh] [Cybruh@AN-gm6.oj9.rj1tv4.IP] has quit [Quit: Leaving]\n",
      "02:15 -!- Guest65262 [androirc@AN-l8e.7dp.8hdu3q.IP] has joined #hackers\n",
      "02:15 -!- CyBruh [-Cybruh@AN-gm6.oj9.rj1tv4.IP] has quit [Connection closed]\n",
      "02:16 -!- AnonStand [AnonStand@Fuck.DaH.Banks] has quit [Ping timeout: 121 seconds]\n",
      "02:16 -!- CyBruh [Cybruh@AN-gm6.oj9.rj1tv4.IP] has joined #hackers\n",
      "02:20 -!- Guest2385 [__desu__3@AN-3ga.17e.ia8882.IP] has joined #hackers\n",
      "02:20 -!- Guest2385 [__desu__3@AN-3ga.17e.ia8882.IP] has quit [Connection closed]\n",
      "02:20 -!- Guest2385 [__desu__3@AN-3ga.17e.ia8882.IP] has joined #hackers\n",
      "02:21 -!- Guest2385 is now known as __desu__\n",
      "02:27 -!- AndroUser2 [androirc@AN-l8e.7dp.8hdu3q.IP] has joined #hackers\n",
      "02:27 -!- Guest65262 [androirc@AN-l8e.7dp.8hdu3q.IP] has quit [Write Error]\n",
      "02:27 -!- AndroUser2 [androirc@AN-l8e.7dp.8hdu3q.IP] has quit [Connection closed]\n",
      "02:27 -!- AndroUser2 [androirc@AN-l8e.7dp.8hdu3q.IP] has joined #hackers\n",
      "02:27 -!- AndroUser2 [androirc@AN-l8e.7dp.8hdu3q.IP] has quit [Connection closed]\n",
      "02:28 -!- bigbadwolf [bigbadwolf@AN-o6s.k5l.cru09h.IP] has joined #hackers\n",
      "02:30 -!- K3nJ1 [K3nJ1@AN-0c8.cl8.vv5bpp.IP] has joined #hackers\n",
      "02:32 -!- ihazcandie [chatzilla@AN-f2o.0vv.17gr0f.IP] has quit [Ping timeout: 121 seconds]\n",
      "02:34 -!- Dzl is now known as Sailer_Dzl\n",
      "02:35 -!- Guest26312 [prudent@AN-r5g.h92.dq7njm.IP] has quit [Connection closed]\n",
      "02:35 -!- Sailer_Dzl is now known as Sailor_Dzl\n",
      "02:35 -!- Guest26312 [prudent@AN-r5g.h92.dq7njm.IP] has joined #hackers\n",
      "02:38 -!- K3nJ1 [K3nJ1@AN-0c8.cl8.vv5bpp.IP] has quit [Quit: i'll be back]\n",
      "02:40 -!- ice231 [ice231@AN-6ks.fag.lh60mn.IP] has quit [Ping timeout: 121 seconds]\n",
      "02:41 -!- ice231 [ice231@AN-efv.iq1.hl67p8.IP] has joined #hackers\n",
      "02:41 -!- twelve [twelve@lempel.ziv] has quit [Quit: ããã¾ãã­]\n",
      "02:48 -!- Guest26312 is now known as hellboy\n",
      "02:52 -!- Ctrl [Ctrl@AN-jo6.8gs.6a3eos.IP] has joined #hackers\n",
      "02:55 < Ctrl> Do any of you know any trusted services that provide offshore dedicated servers in countries like Iran, Russia, China, etc, that won't bend at pressure from LE\n",
      "02:56 < Ctrl> And take bitcoin obviously \n",
      "02:59 -!- Shabby [Shabby@AN-m4l.8rt.716oej.IP] has joined #hackers\n",
      "03:00 -!- ice231 [ice231@AN-efv.iq1.hl67p8.IP] has quit [Quit: Good Bye]\n",
      "03:00 -!- Shabby [Shabby@AN-m4l.8rt.716oej.IP] has quit [Quit: Leaving]\n",
      "03:03 -!- patsukin [patsukin@AN-tpi.h7q.rk79ui.IP] has joined #hackers\n",
      "03:06 -!- Ctrl [Ctrl@AN-jo6.8gs.6a3eos.IP] has quit [Connection closed]\n",
      "03:11 -!- patsukin [patsukin@AN-tpi.h7q.rk79ui.IP] has quit [Quit: Leaving]\n",
      "03:12 -!- ThaCosmo [webirc@AN-j2r.jil.8rs5jp.IP] has quit [Quit: Web client closed]\n",
      "03:12 -!- Sailor_Dzl is now known as Sophisticated_Dzl\n",
      "03:15 -!- superstar_killers [superstar_@everything.is.awesome] has quit [Quit: ]\n",
      "03:16 -!- Sophisticated_Dzl is now known as Dzl\n",
      "03:36 -!- Beowulf [Beowulf@AN-pc6.k6h.g70m12.IP] has joined #hackers\n",
      "03:39 -!- cryptomillz [cryptomillz@AN-8cg.u7f.1v7gp0.IP] has joined #hackers\n",
      "03:43 -!- guapo [webirc@AN-tuj.3bd.e1r4fn.IP] has quit [Ping timeout: 121 seconds]\n",
      "03:46 -!- lulzdrone [lulz@drone.incoming.pew.pews] has quit [Ping timeout: 121 seconds]\n",
      "03:46 -!- lulzdrone [lulz@drone.incoming.pew.pews] has joined #hackers\n",
      "03:50 < cryptomillz> #tutorials\n",
      "03:50 -!- AdmiralMubuntu [Djang0@AN-kmmc0v.2g38.5juu.k7goj7.IP] has joined #hackers\n",
      "03:51 < Winston> /join #tutorials\n",
      "03:51 < Winston> do that cryptomillz ^^^\n",
      "03:51 -!- mild_touch [mild_touch@99percent.org] has joined #hackers\n",
      "03:52 -!- kaijectorsf [pot@the.kettle.is.black] has quit [Ping timeout: 121 seconds]\n",
      "04:08 -!- Dzl [Dzl@Corruptissima.Re.Publica.Plurimae.Legas] has quit [Quit: Leaving]\n",
      "04:10 -!- Winston [Winston@schrodingers.litterbox] has left #hackers []\n",
      "04:14 -!- mild_touch [mild_touch@99percent.org] has quit [Quit: This computer has gone to sleep]\n",
      "04:15 < cryptomillz> i cant find tutorials on the list\n",
      "04:16 < cryptomillz> found it\n",
      "04:18 -!- bigbadwolf [bigbadwolf@AN-o6s.k5l.cru09h.IP] has quit [Connection closed]\n",
      "04:19 -!- rute [rute@AN-4u3.nn1.gmqo8m.IP] has quit [Ping timeout: 121 seconds]\n",
      "04:21 -!- arc3v1l [arc3v1l@AN-iri.6ff.9l3h91.IP] has joined #hackers\n",
      "04:24 -!- NEGATIVEZERO [negative@zero.negative] has quit [Connection closed]\n",
      "04:33 -!- rute [rute@AN-4u3.nn1.gmqo8m.IP] has joined #hackers\n",
      "04:36 -!- dafuq [dafuq@AN-ggv.7ka.q33bn3.IP] has quit [Connection closed]\n",
      "04:37 -!- AdmiralMubuntu [Djang0@AN-kmmc0v.2g38.5juu.k7goj7.IP] has quit [Quit: Â¯\\_(ã)_/Â¯ H8rz g0n h8]\n",
      "04:38 -!- gucci|bebe [guccibebe@errrrthang.guc.ci] has joined #hackers\n",
      "04:42 -!- hellboy [coffee@starbucks.isexpensive] has quit [Ping timeout: 121 seconds]\n",
      "04:47 -!- Flutts [AndChat2541@AN-pl0gl1.8e2d.64f9.r226rd.IP] has joined #hackers\n",
      "04:51 -!- cryptomillz [cryptomillz@AN-8cg.u7f.1v7gp0.IP] has quit [Connection closed]\n",
      "04:59 -!- enigma [fbi@AN-vqbp8o.8pc6.aaic.n5iikd.IP] has joined #hackers\n",
      "05:01 -!- Bobseviltwin [steven@stupid.hunkey.monkey] has joined #hackers\n",
      "05:04 -!- S0ldierF0rever [S0ldierF0re@AN-5ms.4a0.9sk9lp.IP] has joined #hackers\n",
      "05:04 -!- hellboy [prudent@AN-r5g.h92.dq7njm.IP] has joined #hackers\n",
      "05:05 -!- hellboy is now known as Guest11966\n",
      "05:06 -!- yetw4t3rm3lon [lion@AN-ki4.fjp.5fmv18.IP] has quit [Connection closed]\n",
      "05:07 -!- distantcicada [bird@AN-ki4.fjp.5fmv18.IP] has joined #hackers\n",
      "05:07 -!- gladpuppy [fly@AN-6qn.dnl.0if8mq.IP] has joined #hackers\n",
      "05:08 -!- distantcicada [bird@AN-ki4.fjp.5fmv18.IP] has quit [Client exited]\n",
      "05:15 -!- Klaatu [me@AN-7um.cla.rsvtrk.IP] has quit [Connection closed]\n",
      "05:16 -!- Klaatu [me@AN-7um.cla.rsvtrk.IP] has joined #hackers\n",
      "05:17 -!- Klaatu_ [me@AN-7um.cla.rsvtrk.IP] has joined #hackers\n",
      "05:18 -!- Klaatu_ [me@AN-7um.cla.rsvtrk.IP] has quit [Quit: abducted by aliens]\n",
      "05:28 -!- AnoNewb [AnoNewb@AN-l9k.23k.193g1c.IP] has joined #hackers\n",
      "05:34 -!- inity13 [inity13@AN-jf7.475.5rba3v.IP] has joined #hackers\n",
      "05:50 -!- TheMessanger [ShadowMask@AN-lk8.ng2.tvsps7.IP] has joined #hackers\n",
      "05:57 -!- CyBruh [Cybruh@AN-gm6.oj9.rj1tv4.IP] has quit [Ping t\n"
     ]
    }
   ],
   "source": [
    "print(data[:10000])"
   ]
  },
  {
   "cell_type": "code",
   "execution_count": 12,
   "metadata": {},
   "outputs": [],
   "source": [
    "pat = r\".*<.*>.*\""
   ]
  },
  {
   "cell_type": "code",
   "execution_count": 13,
   "metadata": {},
   "outputs": [],
   "source": [
    "import re\n",
    "d = re.findall(pat,data)"
   ]
  },
  {
   "cell_type": "code",
   "execution_count": 26,
   "metadata": {},
   "outputs": [
    {
     "data": {
      "text/plain": [
       "'00:27 < ice231> we need help with an op but were stuck at this one part'"
      ]
     },
     "execution_count": 26,
     "metadata": {},
     "output_type": "execute_result"
    }
   ],
   "source": [
    "import pandas as pd\n",
    "d[1]\n",
    "\n",
    "d[1]"
   ]
  },
  {
   "cell_type": "code",
   "execution_count": 32,
   "metadata": {},
   "outputs": [],
   "source": [
    "name = d[1][5:d[1].index('>')].split()[-1]\n",
    "message = d[1][d[1].index('>')+1:].strip()"
   ]
  },
  {
   "cell_type": "code",
   "execution_count": 33,
   "metadata": {},
   "outputs": [
    {
     "name": "stdout",
     "output_type": "stream",
     "text": [
      "ice231\n",
      "we need help with an op but were stuck at this one part\n"
     ]
    }
   ],
   "source": [
    "print(name)\n",
    "print(message)"
   ]
  },
  {
   "cell_type": "code",
   "execution_count": 39,
   "metadata": {},
   "outputs": [],
   "source": [
    "df = pd.DataFrame([\n",
    "    [ item[5:item.index('>')].split()[-1].strip().replace('<',''),\n",
    "      item[item.index('>')+1:].strip()\n",
    "    ] for item in d \n",
    "])"
   ]
  },
  {
   "cell_type": "code",
   "execution_count": 40,
   "metadata": {},
   "outputs": [
    {
     "data": {
      "text/html": [
       "<div>\n",
       "<style scoped>\n",
       "    .dataframe tbody tr th:only-of-type {\n",
       "        vertical-align: middle;\n",
       "    }\n",
       "\n",
       "    .dataframe tbody tr th {\n",
       "        vertical-align: top;\n",
       "    }\n",
       "\n",
       "    .dataframe thead th {\n",
       "        text-align: right;\n",
       "    }\n",
       "</style>\n",
       "<table border=\"1\" class=\"dataframe\">\n",
       "  <thead>\n",
       "    <tr style=\"text-align: right;\">\n",
       "      <th></th>\n",
       "      <th>0</th>\n",
       "      <th>1</th>\n",
       "    </tr>\n",
       "  </thead>\n",
       "  <tbody>\n",
       "    <tr>\n",
       "      <th>0</th>\n",
       "      <td>ice231</td>\n",
       "      <td>anyone good with exploiting cisco asa with ext...</td>\n",
       "    </tr>\n",
       "    <tr>\n",
       "      <th>1</th>\n",
       "      <td>ice231</td>\n",
       "      <td>we need help with an op but were stuck at this...</td>\n",
       "    </tr>\n",
       "    <tr>\n",
       "      <th>2</th>\n",
       "      <td>HeavenGuard</td>\n",
       "      <td>hello?</td>\n",
       "    </tr>\n",
       "    <tr>\n",
       "      <th>3</th>\n",
       "      <td>+nemecy</td>\n",
       "      <td>hi</td>\n",
       "    </tr>\n",
       "    <tr>\n",
       "      <th>4</th>\n",
       "      <td>ice231</td>\n",
       "      <td>hi</td>\n",
       "    </tr>\n",
       "  </tbody>\n",
       "</table>\n",
       "</div>"
      ],
      "text/plain": [
       "             0                                                  1\n",
       "0       ice231  anyone good with exploiting cisco asa with ext...\n",
       "1       ice231  we need help with an op but were stuck at this...\n",
       "2  HeavenGuard                                             hello?\n",
       "3      +nemecy                                                 hi\n",
       "4       ice231                                                 hi"
      ]
     },
     "execution_count": 40,
     "metadata": {},
     "output_type": "execute_result"
    }
   ],
   "source": [
    "df.head()"
   ]
  },
  {
   "cell_type": "code",
   "execution_count": 41,
   "metadata": {},
   "outputs": [],
   "source": [
    "df.columns= ['name','message']"
   ]
  },
  {
   "cell_type": "code",
   "execution_count": 42,
   "metadata": {},
   "outputs": [
    {
     "data": {
      "text/html": [
       "<div>\n",
       "<style scoped>\n",
       "    .dataframe tbody tr th:only-of-type {\n",
       "        vertical-align: middle;\n",
       "    }\n",
       "\n",
       "    .dataframe tbody tr th {\n",
       "        vertical-align: top;\n",
       "    }\n",
       "\n",
       "    .dataframe thead th {\n",
       "        text-align: right;\n",
       "    }\n",
       "</style>\n",
       "<table border=\"1\" class=\"dataframe\">\n",
       "  <thead>\n",
       "    <tr style=\"text-align: right;\">\n",
       "      <th></th>\n",
       "      <th>name</th>\n",
       "      <th>message</th>\n",
       "    </tr>\n",
       "  </thead>\n",
       "  <tbody>\n",
       "    <tr>\n",
       "      <th>0</th>\n",
       "      <td>ice231</td>\n",
       "      <td>anyone good with exploiting cisco asa with ext...</td>\n",
       "    </tr>\n",
       "    <tr>\n",
       "      <th>1</th>\n",
       "      <td>ice231</td>\n",
       "      <td>we need help with an op but were stuck at this...</td>\n",
       "    </tr>\n",
       "    <tr>\n",
       "      <th>2</th>\n",
       "      <td>HeavenGuard</td>\n",
       "      <td>hello?</td>\n",
       "    </tr>\n",
       "    <tr>\n",
       "      <th>3</th>\n",
       "      <td>+nemecy</td>\n",
       "      <td>hi</td>\n",
       "    </tr>\n",
       "    <tr>\n",
       "      <th>4</th>\n",
       "      <td>ice231</td>\n",
       "      <td>hi</td>\n",
       "    </tr>\n",
       "  </tbody>\n",
       "</table>\n",
       "</div>"
      ],
      "text/plain": [
       "          name                                            message\n",
       "0       ice231  anyone good with exploiting cisco asa with ext...\n",
       "1       ice231  we need help with an op but were stuck at this...\n",
       "2  HeavenGuard                                             hello?\n",
       "3      +nemecy                                                 hi\n",
       "4       ice231                                                 hi"
      ]
     },
     "execution_count": 42,
     "metadata": {},
     "output_type": "execute_result"
    }
   ],
   "source": [
    "df.head()"
   ]
  },
  {
   "cell_type": "code",
   "execution_count": 44,
   "metadata": {},
   "outputs": [
    {
     "data": {
      "text/plain": [
       "<matplotlib.axes._subplots.AxesSubplot at 0x26319598668>"
      ]
     },
     "execution_count": 44,
     "metadata": {},
     "output_type": "execute_result"
    },
    {
     "data": {
      "image/png": "[encoded data removed]",
      "text/plain": [
       "<Figure size 432x288 with 1 Axes>"
      ]
     },
     "metadata": {
      "needs_background": "light"
     },
     "output_type": "display_data"
    }
   ],
   "source": [
    "df['name'].value_counts()[:20].plot(kind='bar')"
   ]
  },
  {
   "cell_type": "code",
   "execution_count": null,
   "metadata": {},
   "outputs": [],
   "source": []
  }
 ],
 "metadata": {
  "kernelspec": {
   "display_name": "Python 3",
   "language": "python",
   "name": "python3"
  },
  "language_info": {
   "codemirror_mode": {
    "name": "ipython",
    "version": 3
   },
   "file_extension": ".py",
   "mimetype": "text/x-python",
   "name": "python",
   "nbconvert_exporter": "python",
   "pygments_lexer": "ipython3",
   "version": "3.7.0"
  }
 },
 "nbformat": 4,
 "nbformat_minor": 2
}
