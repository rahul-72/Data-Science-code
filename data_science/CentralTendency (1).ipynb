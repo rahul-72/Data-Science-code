{
 "cells": [
  {
   "cell_type": "code",
   "execution_count": 2,
   "metadata": {},
   "outputs": [],
   "source": [
    "from random import randint\n",
    "discrete_data = [ randint(10,51) for var in range(1000) ]"
   ]
  },
  {
   "cell_type": "code",
   "execution_count": 3,
   "metadata": {},
   "outputs": [
    {
     "name": "stdout",
     "output_type": "stream",
     "text": [
      "[42, 50, 51, 28, 20, 48, 42, 25, 38, 35, 43, 35, 31, 45, 20, 25, 20, 47, 14, 14, 18, 38, 36, 22, 43, 50, 34, 30, 36, 50, 30, 36, 39, 11, 26, 10, 24, 21, 30, 31, 49, 37, 34, 22, 39, 21, 17, 51, 33, 42, 22, 22, 29, 33, 46, 39, 48, 46, 19, 27, 14, 14, 24, 26, 25, 40, 37, 30, 35, 45, 34, 49, 20, 23, 37, 32, 12, 42, 39, 35, 18, 39, 29, 40, 39, 36, 12, 32, 44, 27, 49, 10, 11, 49, 27, 51, 42, 23, 31, 31, 30, 16, 13, 21, 45, 20, 29, 37, 34, 23, 48, 27, 34, 48, 37, 18, 39, 22, 29, 45, 25, 34, 43, 20, 20, 21, 13, 34, 21, 19, 49, 29, 40, 38, 51, 44, 38, 51, 10, 40, 41, 22, 41, 17, 32, 12, 19, 25, 39, 20, 37, 38, 24, 16, 42, 35, 50, 14, 17, 32, 44, 47, 26, 31, 23, 39, 21, 11, 17, 20, 30, 35, 42, 32, 50, 49, 13, 40, 30, 42, 22, 25, 27, 36, 39, 42, 45, 44, 39, 47, 30, 20, 15, 13, 20, 40, 19, 40, 41, 33, 36, 13, 12, 47, 27, 17, 25, 45, 12, 26, 14, 15, 43, 39, 49, 22, 38, 42, 21, 16, 21, 14, 12, 51, 43, 44, 39, 48, 51, 42, 47, 10, 23, 45, 37, 27, 26, 32, 51, 18, 40, 44, 24, 12, 45, 23, 26, 19, 24, 30, 20, 42, 33, 43, 31, 13, 36, 25, 40, 43, 48, 14, 46, 16, 19, 13, 36, 24, 28, 49, 31, 19, 14, 37, 48, 20, 35, 43, 41, 11, 44, 23, 16, 13, 44, 34, 15, 20, 19, 49, 35, 31, 22, 33, 41, 17, 12, 12, 44, 22, 24, 33, 45, 30, 24, 41, 28, 12, 30, 25, 45, 27, 16, 38, 22, 44, 34, 24, 15, 31, 32, 26, 35, 31, 50, 31, 11, 32, 44, 35, 47, 14, 47, 43, 23, 23, 16, 41, 35, 33, 25, 48, 31, 41, 13, 13, 34, 41, 31, 12, 28, 36, 19, 23, 50, 18, 13, 17, 25, 14, 17, 24, 17, 50, 29, 40, 25, 21, 34, 34, 25, 29, 41, 36, 11, 11, 19, 46, 42, 43, 22, 14, 44, 30, 51, 42, 48, 28, 33, 48, 36, 22, 39, 51, 36, 26, 15, 29, 10, 42, 14, 29, 29, 23, 10, 19, 19, 43, 14, 47, 47, 10, 10, 39, 51, 43, 13, 25, 32, 13, 19, 31, 33, 14, 33, 21, 30, 39, 21, 18, 33, 30, 47, 36, 26, 10, 23, 30, 36, 50, 50, 24, 42, 19, 51, 10, 43, 26, 49, 49, 51, 31, 13, 37, 12, 14, 41, 23, 23, 19, 21, 22, 12, 39, 12, 38, 10, 10, 32, 32, 26, 24, 24, 37, 20, 34, 39, 19, 43, 18, 28, 15, 43, 12, 38, 33, 19, 13, 40, 32, 37, 13, 12, 11, 14, 18, 31, 16, 51, 13, 33, 23, 31, 47, 27, 48, 39, 23, 33, 15, 48, 20, 38, 22, 38, 19, 43, 49, 35, 14, 38, 29, 12, 25, 21, 47, 16, 10, 44, 35, 20, 46, 18, 34, 19, 24, 41, 18, 50, 15, 47, 30, 50, 15, 31, 30, 38, 21, 38, 29, 34, 24, 18, 30, 44, 26, 11, 32, 41, 50, 21, 26, 30, 50, 25, 45, 32, 26, 29, 44, 19, 40, 24, 28, 16, 21, 50, 34, 44, 16, 33, 28, 21, 31, 21, 50, 29, 44, 12, 13, 21, 29, 22, 31, 37, 33, 19, 39, 48, 25, 44, 17, 36, 48, 38, 12, 33, 50, 48, 23, 32, 25, 39, 19, 26, 13, 21, 40, 19, 45, 42, 44, 10, 37, 50, 44, 41, 15, 22, 47, 15, 28, 27, 39, 35, 40, 31, 31, 16, 39, 37, 27, 14, 10, 49, 45, 14, 50, 44, 31, 31, 50, 29, 21, 42, 35, 42, 42, 30, 26, 46, 24, 41, 13, 14, 32, 34, 17, 38, 42, 16, 15, 25, 21, 28, 42, 41, 36, 30, 15, 13, 34, 26, 44, 43, 16, 29, 40, 50, 17, 44, 16, 17, 28, 46, 15, 39, 21, 38, 12, 17, 24, 41, 15, 29, 17, 35, 30, 17, 16, 14, 36, 19, 22, 51, 28, 16, 42, 48, 21, 47, 38, 49, 45, 39, 40, 21, 31, 17, 44, 27, 20, 29, 24, 48, 26, 14, 11, 27, 49, 37, 11, 26, 50, 48, 42, 32, 11, 50, 12, 23, 19, 26, 38, 17, 40, 22, 23, 16, 49, 11, 31, 47, 19, 34, 45, 50, 11, 50, 11, 37, 33, 15, 15, 50, 48, 21, 12, 40, 50, 17, 36, 24, 11, 27, 21, 35, 33, 22, 50, 46, 48, 27, 13, 51, 21, 39, 42, 48, 49, 19, 27, 39, 18, 39, 11, 40, 39, 18, 20, 47, 39, 27, 45, 16, 12, 13, 48, 48, 12, 40, 31, 45, 15, 39, 44, 16, 14, 28, 26, 34, 46, 14, 17, 34, 46, 10, 48, 32, 15, 14, 39, 34, 37, 18, 46, 41, 31, 28, 36, 34, 21, 31, 41, 49, 13, 39, 19, 17, 21, 30, 23, 42, 25, 43, 50, 30, 47, 22, 12, 15, 50, 50, 21, 37, 51, 41, 13, 35, 19, 22, 31, 48, 22, 44, 10, 43, 13, 37, 32, 45, 35, 12, 43, 17, 44, 49, 25, 46, 37, 13, 20, 14, 48, 43, 11, 16, 19, 22, 19, 22, 27, 21, 28, 42, 34, 47, 43, 24, 46, 47, 38, 17, 20, 51, 26, 40, 38, 32, 20, 30, 35, 19, 35, 50, 44, 49, 28, 19, 37, 43, 45, 25, 38, 17, 35, 38, 24, 45, 18, 45, 50, 11, 15, 46, 11, 38, 51, 11, 26, 33, 20, 43, 30, 32, 27, 27, 22, 46, 12, 13, 15, 45, 12, 25, 19, 30, 46, 39, 30, 49, 24, 20, 13, 18, 10, 46, 39, 24, 31, 30, 47, 31, 47, 21, 41, 48, 45, 33, 24]\n"
     ]
    }
   ],
   "source": [
    "print(discrete_data)"
   ]
  },
  {
   "cell_type": "code",
   "execution_count": 4,
   "metadata": {},
   "outputs": [],
   "source": [
    "discrete_data.sort()\n",
    "data_clf = discrete_data"
   ]
  },
  {
   "cell_type": "code",
   "execution_count": 5,
   "metadata": {},
   "outputs": [
    {
     "name": "stdout",
     "output_type": "stream",
     "text": [
      "[10, 10, 10, 10, 10, 10, 10, 10, 10, 10, 10, 10, 10, 10, 10, 10, 10, 10, 11, 11, 11, 11, 11, 11, 11, 11, 11, 11, 11, 11, 11, 11, 11, 11, 11, 11, 11, 11, 11, 12, 12, 12, 12, 12, 12, 12, 12, 12, 12, 12, 12, 12, 12, 12, 12, 12, 12, 12, 12, 12, 12, 12, 12, 12, 12, 12, 12, 13, 13, 13, 13, 13, 13, 13, 13, 13, 13, 13, 13, 13, 13, 13, 13, 13, 13, 13, 13, 13, 13, 13, 13, 13, 13, 13, 13, 13, 14, 14, 14, 14, 14, 14, 14, 14, 14, 14, 14, 14, 14, 14, 14, 14, 14, 14, 14, 14, 14, 14, 14, 14, 14, 14, 14, 15, 15, 15, 15, 15, 15, 15, 15, 15, 15, 15, 15, 15, 15, 15, 15, 15, 15, 15, 15, 15, 15, 16, 16, 16, 16, 16, 16, 16, 16, 16, 16, 16, 16, 16, 16, 16, 16, 16, 16, 16, 16, 16, 17, 17, 17, 17, 17, 17, 17, 17, 17, 17, 17, 17, 17, 17, 17, 17, 17, 17, 17, 17, 17, 17, 17, 17, 18, 18, 18, 18, 18, 18, 18, 18, 18, 18, 18, 18, 18, 18, 18, 18, 19, 19, 19, 19, 19, 19, 19, 19, 19, 19, 19, 19, 19, 19, 19, 19, 19, 19, 19, 19, 19, 19, 19, 19, 19, 19, 19, 19, 19, 19, 19, 19, 19, 19, 20, 20, 20, 20, 20, 20, 20, 20, 20, 20, 20, 20, 20, 20, 20, 20, 20, 20, 20, 20, 20, 20, 20, 20, 21, 21, 21, 21, 21, 21, 21, 21, 21, 21, 21, 21, 21, 21, 21, 21, 21, 21, 21, 21, 21, 21, 21, 21, 21, 21, 21, 21, 21, 21, 21, 21, 21, 22, 22, 22, 22, 22, 22, 22, 22, 22, 22, 22, 22, 22, 22, 22, 22, 22, 22, 22, 22, 22, 22, 22, 22, 22, 22, 23, 23, 23, 23, 23, 23, 23, 23, 23, 23, 23, 23, 23, 23, 23, 23, 23, 23, 23, 23, 24, 24, 24, 24, 24, 24, 24, 24, 24, 24, 24, 24, 24, 24, 24, 24, 24, 24, 24, 24, 24, 24, 24, 24, 24, 25, 25, 25, 25, 25, 25, 25, 25, 25, 25, 25, 25, 25, 25, 25, 25, 25, 25, 25, 25, 25, 25, 25, 26, 26, 26, 26, 26, 26, 26, 26, 26, 26, 26, 26, 26, 26, 26, 26, 26, 26, 26, 26, 26, 26, 26, 27, 27, 27, 27, 27, 27, 27, 27, 27, 27, 27, 27, 27, 27, 27, 27, 27, 27, 27, 27, 28, 28, 28, 28, 28, 28, 28, 28, 28, 28, 28, 28, 28, 28, 28, 28, 29, 29, 29, 29, 29, 29, 29, 29, 29, 29, 29, 29, 29, 29, 29, 29, 29, 29, 29, 30, 30, 30, 30, 30, 30, 30, 30, 30, 30, 30, 30, 30, 30, 30, 30, 30, 30, 30, 30, 30, 30, 30, 30, 30, 30, 30, 30, 30, 31, 31, 31, 31, 31, 31, 31, 31, 31, 31, 31, 31, 31, 31, 31, 31, 31, 31, 31, 31, 31, 31, 31, 31, 31, 31, 31, 31, 31, 31, 31, 31, 32, 32, 32, 32, 32, 32, 32, 32, 32, 32, 32, 32, 32, 32, 32, 32, 32, 32, 32, 32, 32, 33, 33, 33, 33, 33, 33, 33, 33, 33, 33, 33, 33, 33, 33, 33, 33, 33, 33, 33, 33, 33, 34, 34, 34, 34, 34, 34, 34, 34, 34, 34, 34, 34, 34, 34, 34, 34, 34, 34, 34, 34, 34, 34, 34, 34, 35, 35, 35, 35, 35, 35, 35, 35, 35, 35, 35, 35, 35, 35, 35, 35, 35, 35, 35, 35, 35, 35, 36, 36, 36, 36, 36, 36, 36, 36, 36, 36, 36, 36, 36, 36, 36, 36, 36, 36, 36, 37, 37, 37, 37, 37, 37, 37, 37, 37, 37, 37, 37, 37, 37, 37, 37, 37, 37, 37, 37, 37, 38, 38, 38, 38, 38, 38, 38, 38, 38, 38, 38, 38, 38, 38, 38, 38, 38, 38, 38, 38, 38, 38, 38, 38, 39, 39, 39, 39, 39, 39, 39, 39, 39, 39, 39, 39, 39, 39, 39, 39, 39, 39, 39, 39, 39, 39, 39, 39, 39, 39, 39, 39, 39, 39, 39, 39, 39, 39, 39, 40, 40, 40, 40, 40, 40, 40, 40, 40, 40, 40, 40, 40, 40, 40, 40, 40, 40, 40, 40, 40, 41, 41, 41, 41, 41, 41, 41, 41, 41, 41, 41, 41, 41, 41, 41, 41, 41, 41, 41, 41, 41, 42, 42, 42, 42, 42, 42, 42, 42, 42, 42, 42, 42, 42, 42, 42, 42, 42, 42, 42, 42, 42, 42, 42, 42, 42, 42, 42, 43, 43, 43, 43, 43, 43, 43, 43, 43, 43, 43, 43, 43, 43, 43, 43, 43, 43, 43, 43, 43, 43, 43, 43, 44, 44, 44, 44, 44, 44, 44, 44, 44, 44, 44, 44, 44, 44, 44, 44, 44, 44, 44, 44, 44, 44, 44, 44, 44, 44, 44, 44, 45, 45, 45, 45, 45, 45, 45, 45, 45, 45, 45, 45, 45, 45, 45, 45, 45, 45, 45, 45, 45, 45, 45, 46, 46, 46, 46, 46, 46, 46, 46, 46, 46, 46, 46, 46, 46, 46, 46, 46, 47, 47, 47, 47, 47, 47, 47, 47, 47, 47, 47, 47, 47, 47, 47, 47, 47, 47, 47, 47, 47, 47, 48, 48, 48, 48, 48, 48, 48, 48, 48, 48, 48, 48, 48, 48, 48, 48, 48, 48, 48, 48, 48, 48, 48, 48, 48, 48, 48, 49, 49, 49, 49, 49, 49, 49, 49, 49, 49, 49, 49, 49, 49, 49, 49, 49, 49, 49, 49, 49, 50, 50, 50, 50, 50, 50, 50, 50, 50, 50, 50, 50, 50, 50, 50, 50, 50, 50, 50, 50, 50, 50, 50, 50, 50, 50, 50, 50, 50, 50, 50, 50, 50, 51, 51, 51, 51, 51, 51, 51, 51, 51, 51, 51, 51, 51, 51, 51, 51, 51, 51, 51]\n"
     ]
    }
   ],
   "source": [
    "print(data_clf)"
   ]
  },
  {
   "cell_type": "code",
   "execution_count": 6,
   "metadata": {},
   "outputs": [],
   "source": [
    "# Latex --> symbolic "
   ]
  },
  {
   "cell_type": "markdown",
   "metadata": {},
   "source": [
    "$$  \\bar{x} = \\sigma  \\theta \\alpha \\beta \\gamma \\sum \\int $$"
   ]
  },
  {
   "cell_type": "markdown",
   "metadata": {},
   "source": [
    "$$ \\frac{x}{y} x^2  \\lim_0^1 $$"
   ]
  },
  {
   "cell_type": "markdown",
   "metadata": {},
   "source": [
    "$$ F(x) = \\int_{-\\infty}^{\\infty} f(x) dx $$"
   ]
  },
  {
   "cell_type": "markdown",
   "metadata": {},
   "source": [
    "## Forumula of Arithmatic Mean\n",
    "$$ \\bar{x} = \\frac {\\sum_{i=0}^{N}x_{i}} {N}  $$"
   ]
  },
  {
   "cell_type": "markdown",
   "metadata": {},
   "source": [
    "$$ \\bar{x} = \\frac {\\sum_{i=0}^{N} x_i } {N} $$"
   ]
  },
  {
   "cell_type": "code",
   "execution_count": 10,
   "metadata": {},
   "outputs": [],
   "source": [
    "avg = sum(data_clf) / len(data_clf)"
   ]
  },
  {
   "cell_type": "code",
   "execution_count": 1,
   "metadata": {},
   "outputs": [
    {
     "ename": "NameError",
     "evalue": "name 'avg' is not defined",
     "output_type": "error",
     "traceback": [
      "\u001b[1;31m---------------------------------------------------------------------------\u001b[0m",
      "\u001b[1;31mNameError\u001b[0m                                 Traceback (most recent call last)",
      "\u001b[1;32m<ipython-input-1-1f2bd005aee1>\u001b[0m in \u001b[0;36m<module>\u001b[1;34m\u001b[0m\n\u001b[1;32m----> 1\u001b[1;33m \u001b[0mavg\u001b[0m\u001b[1;33m\u001b[0m\u001b[1;33m\u001b[0m\u001b[0m\n\u001b[0m",
      "\u001b[1;31mNameError\u001b[0m: name 'avg' is not defined"
     ]
    }
   ],
   "source": [
    "avg"
   ]
  },
  {
   "cell_type": "code",
   "execution_count": 12,
   "metadata": {},
   "outputs": [],
   "source": [
    "import math"
   ]
  },
  {
   "cell_type": "code",
   "execution_count": 13,
   "metadata": {},
   "outputs": [
    {
     "data": {
      "text/plain": [
       "0.3010299956639812"
      ]
     },
     "execution_count": 13,
     "metadata": {},
     "output_type": "execute_result"
    }
   ],
   "source": [
    "math.log10(2)"
   ]
  },
  {
   "cell_type": "code",
   "execution_count": 14,
   "metadata": {},
   "outputs": [
    {
     "data": {
      "text/plain": [
       "3.321928094887362"
      ]
     },
     "execution_count": 14,
     "metadata": {},
     "output_type": "execute_result"
    }
   ],
   "source": [
    "1/math.log10(2)"
   ]
  },
  {
   "cell_type": "markdown",
   "metadata": {},
   "source": [
    "### Calculating Number of Class Intervals k \n",
    "\n",
    "$$ k = 1 + 3.322\\log_{10} {N} $$"
   ]
  },
  {
   "cell_type": "code",
   "execution_count": 20,
   "metadata": {},
   "outputs": [],
   "source": [
    "k = 1+ 3.322*math.log10(len(data_clf))"
   ]
  },
  {
   "cell_type": "code",
   "execution_count": 21,
   "metadata": {},
   "outputs": [
    {
     "data": {
      "text/plain": [
       "10.966000000000001"
      ]
     },
     "execution_count": 21,
     "metadata": {},
     "output_type": "execute_result"
    }
   ],
   "source": [
    "k"
   ]
  },
  {
   "cell_type": "code",
   "execution_count": 22,
   "metadata": {},
   "outputs": [],
   "source": [
    "R = max(data_clf) - min(data_clf)"
   ]
  },
  {
   "cell_type": "code",
   "execution_count": 23,
   "metadata": {
    "scrolled": true
   },
   "outputs": [
    {
     "data": {
      "text/plain": [
       "41"
      ]
     },
     "execution_count": 23,
     "metadata": {},
     "output_type": "execute_result"
    }
   ],
   "source": [
    "R"
   ]
  },
  {
   "cell_type": "code",
   "execution_count": 24,
   "metadata": {},
   "outputs": [],
   "source": [
    "start = min(data_clf)"
   ]
  },
  {
   "cell_type": "code",
   "execution_count": 25,
   "metadata": {},
   "outputs": [
    {
     "data": {
      "text/plain": [
       "10"
      ]
     },
     "execution_count": 25,
     "metadata": {},
     "output_type": "execute_result"
    }
   ],
   "source": [
    "start"
   ]
  },
  {
   "cell_type": "code",
   "execution_count": 26,
   "metadata": {},
   "outputs": [],
   "source": [
    "# c is the width of class\n"
   ]
  },
  {
   "cell_type": "markdown",
   "metadata": {},
   "source": [
    "#### Formula of Class Width c\n",
    "$$ c  = \\frac{Range}{no\\ of \\ classes} $$\n",
    "\n",
    "$$ c = \\frac {High - Low} { 1 + 3.322log_{10}(N)} $$"
   ]
  },
  {
   "cell_type": "code",
   "execution_count": 27,
   "metadata": {},
   "outputs": [],
   "source": [
    "c = R / k"
   ]
  },
  {
   "cell_type": "code",
   "execution_count": 28,
   "metadata": {},
   "outputs": [
    {
     "data": {
      "text/plain": [
       "3.738829108152471"
      ]
     },
     "execution_count": 28,
     "metadata": {},
     "output_type": "execute_result"
    }
   ],
   "source": [
    "c"
   ]
  },
  {
   "cell_type": "code",
   "execution_count": 3,
   "metadata": {},
   "outputs": [
    {
     "name": "stdout",
     "output_type": "stream",
     "text": [
      "Enter number of items : 9000\n",
      "Range(Low,High) : 50,150\n",
      "Number of items  =  9000\n",
      "Lowest Value -->  50\n",
      "Highest Value -->  150\n"
     ]
    }
   ],
   "source": [
    "N = int(input(\"Enter number of items : \"))\n",
    "L,H = map(lambda x:int(x),input(\"Range(Low,High) : \").split(','))\n",
    "print(\"Number of items  = \",N)\n",
    "print(\"Lowest Value --> \",L)\n",
    "print(\"Highest Value --> \",H)"
   ]
  },
  {
   "cell_type": "code",
   "execution_count": 4,
   "metadata": {},
   "outputs": [
    {
     "name": "stdout",
     "output_type": "stream",
     "text": [
      "[1, 2, 3, 4, 5]\n",
      "[1, 4, 9, 16, 25]\n"
     ]
    }
   ],
   "source": [
    "# tradinational\n",
    "\n",
    "l = [ 1,2,3,4,5] # sequence\n",
    "\n",
    "r = []\n",
    "def squre(item): # squre\n",
    "    return item**2\n",
    "\n",
    "for item in l : \n",
    "    r.append(squre(item))\n",
    "    \n",
    "print(l)\n",
    "print(r)"
   ]
  },
  {
   "cell_type": "code",
   "execution_count": 6,
   "metadata": {},
   "outputs": [
    {
     "data": {
      "text/plain": [
       "[1, 4, 9, 16, 25]"
      ]
     },
     "execution_count": 6,
     "metadata": {},
     "output_type": "execute_result"
    }
   ],
   "source": [
    "list(map(squre,l))"
   ]
  },
  {
   "cell_type": "code",
   "execution_count": 7,
   "metadata": {},
   "outputs": [],
   "source": [
    "f = lambda : print(\"hello\")"
   ]
  },
  {
   "cell_type": "code",
   "execution_count": 8,
   "metadata": {},
   "outputs": [
    {
     "name": "stdout",
     "output_type": "stream",
     "text": [
      "hello\n"
     ]
    }
   ],
   "source": [
    "f()"
   ]
  },
  {
   "cell_type": "code",
   "execution_count": 9,
   "metadata": {},
   "outputs": [],
   "source": [
    "s = lambda var : var **2"
   ]
  },
  {
   "cell_type": "code",
   "execution_count": 10,
   "metadata": {},
   "outputs": [
    {
     "data": {
      "text/plain": [
       "25"
      ]
     },
     "execution_count": 10,
     "metadata": {},
     "output_type": "execute_result"
    }
   ],
   "source": [
    "s(5)"
   ]
  },
  {
   "cell_type": "code",
   "execution_count": 11,
   "metadata": {},
   "outputs": [],
   "source": [
    "# hy = \n",
    "import math\n",
    "\n",
    "hy = lambda x,y : math.sqrt(x**2+y**2)"
   ]
  },
  {
   "cell_type": "code",
   "execution_count": 12,
   "metadata": {},
   "outputs": [
    {
     "data": {
      "text/plain": [
       "6.4031242374328485"
      ]
     },
     "execution_count": 12,
     "metadata": {},
     "output_type": "execute_result"
    }
   ],
   "source": [
    "hy(4,5)"
   ]
  },
  {
   "cell_type": "code",
   "execution_count": 13,
   "metadata": {},
   "outputs": [],
   "source": [
    "def hy(x,y):\n",
    "    r = math.sqrt(x**2+y**2)\n",
    "    return r"
   ]
  },
  {
   "cell_type": "code",
   "execution_count": 14,
   "metadata": {},
   "outputs": [
    {
     "data": {
      "text/plain": [
       "6.4031242374328485"
      ]
     },
     "execution_count": 14,
     "metadata": {},
     "output_type": "execute_result"
    }
   ],
   "source": [
    "hy(4,5)"
   ]
  },
  {
   "cell_type": "code",
   "execution_count": 19,
   "metadata": {},
   "outputs": [
    {
     "name": "stdout",
     "output_type": "stream",
     "text": [
      "any input : 1,2,3,4,5\n"
     ]
    },
    {
     "data": {
      "text/plain": [
       "[1, 2, 3, 4, 5]"
      ]
     },
     "execution_count": 19,
     "metadata": {},
     "output_type": "execute_result"
    }
   ],
   "source": [
    "list(map(int,input(\"any input : \").split(\",\")))"
   ]
  },
  {
   "cell_type": "code",
   "execution_count": 20,
   "metadata": {},
   "outputs": [
    {
     "name": "stdout",
     "output_type": "stream",
     "text": [
      "N,Low,High : 1000,1,100\n",
      "Number of items  =  1000\n",
      "Lowest Value -->  1\n",
      "Highest Value -->  100\n"
     ]
    }
   ],
   "source": [
    "\n",
    "N,L,H = map(int,input(\"N,Low,High : \").split(','))\n",
    "print(\"Number of items  = \",N)\n",
    "print(\"Lowest Value --> \",L)\n",
    "print(\"Highest Value --> \",H)"
   ]
  },
  {
   "cell_type": "code",
   "execution_count": 29,
   "metadata": {},
   "outputs": [
    {
     "name": "stdout",
     "output_type": "stream",
     "text": [
      "N,Low,High : 1000,50,150\n"
     ]
    }
   ],
   "source": [
    "import random\n",
    "N,L,H = map(int,input(\"N,Low,High : \").split(','))\n",
    "data = [ random.randint(L,H) for var in range(N) ] # list comprensison"
   ]
  },
  {
   "cell_type": "code",
   "execution_count": 34,
   "metadata": {},
   "outputs": [
    {
     "data": {
      "image/png": "[encoded data removed]",
      "text/plain": [
       "<Figure size 432x288 with 1 Axes>"
      ]
     },
     "metadata": {
      "needs_background": "light"
     },
     "output_type": "display_data"
    }
   ],
   "source": [
    "import matplotlib.pyplot as plt\n",
    "plt.hist(data,30)\n",
    "plt.show()"
   ]
  },
  {
   "cell_type": "code",
   "execution_count": 38,
   "metadata": {},
   "outputs": [
    {
     "data": {
      "image/png": "[encoded data removed]",
      "text/plain": [
       "<Figure size 432x288 with 1 Axes>"
      ]
     },
     "metadata": {
      "needs_background": "light"
     },
     "output_type": "display_data"
    }
   ],
   "source": [
    "import numpy as np \n",
    "\n",
    "a = np.random.normal(25,5,1000)\n",
    "plt.hist(a,100)\n",
    "plt.show()"
   ]
  },
  {
   "cell_type": "code",
   "execution_count": 39,
   "metadata": {},
   "outputs": [
    {
     "name": "stdout",
     "output_type": "stream",
     "text": [
      "No of classes :  10.966000000000001\n",
      "Width of class interval :  9.119095385737733\n"
     ]
    }
   ],
   "source": [
    "k = 1 + 3.322*math.log10(N)\n",
    "c = (H-L) / k\n",
    "print(\"No of classes : \",k)\n",
    "print(\"Width of class interval : \",c)"
   ]
  },
  {
   "cell_type": "code",
   "execution_count": 72,
   "metadata": {},
   "outputs": [],
   "source": [
    "s = L\n",
    "e = c\n",
    "classes = []\n",
    "for var in range(round(k)):\n",
    "    cls = (round(s),round(s+c))\n",
    "    count = 0\n",
    "    for var in range(round(s),round(s+c)):\n",
    "        count += data.count(var)\n",
    "    f = count\n",
    "    classes.append([cls,f])\n",
    "    s += c\n",
    "else : \n",
    "    classes[-1][1] += data.count(round(s))\n",
    "    "
   ]
  },
  {
   "cell_type": "code",
   "execution_count": 73,
   "metadata": {},
   "outputs": [
    {
     "name": "stdout",
     "output_type": "stream",
     "text": [
      "(50, 59) \t 97\n",
      "(59, 68) \t 78\n",
      "(68, 77) \t 88\n",
      "(77, 86) \t 100\n",
      "(86, 96) \t 92\n",
      "(96, 105) \t 97\n",
      "(105, 114) \t 89\n",
      "(114, 123) \t 86\n",
      "(123, 132) \t 95\n",
      "(132, 141) \t 77\n",
      "(141, 150) \t 101\n",
      "No of items  1000\n"
     ]
    }
   ],
   "source": [
    "summ = 0\n",
    "for cls,f in classes : \n",
    "    print(cls,'\\t',f)\n",
    "    summ += f \n",
    "print(\"No of items \",summ)"
   ]
  },
  {
   "cell_type": "code",
   "execution_count": 75,
   "metadata": {},
   "outputs": [],
   "source": [
    "asm_mean = (77+86)/2"
   ]
  },
  {
   "cell_type": "code",
   "execution_count": 76,
   "metadata": {},
   "outputs": [
    {
     "data": {
      "text/plain": [
       "81.5"
      ]
     },
     "execution_count": 76,
     "metadata": {},
     "output_type": "execute_result"
    }
   ],
   "source": [
    "asm_mean"
   ]
  },
  {
   "cell_type": "code",
   "execution_count": 78,
   "metadata": {},
   "outputs": [
    {
     "data": {
      "text/plain": [
       "99.694"
      ]
     },
     "execution_count": 78,
     "metadata": {},
     "output_type": "execute_result"
    }
   ],
   "source": [
    "import numpy \n",
    "np.array(data).mean()"
   ]
  },
  {
   "cell_type": "code",
   "execution_count": null,
   "metadata": {},
   "outputs": [],
   "source": []
  }
 ],
 "metadata": {
  "kernelspec": {
   "display_name": "Python 3",
   "language": "python",
   "name": "python3"
  },
  "language_info": {
   "codemirror_mode": {
    "name": "ipython",
    "version": 3
   },
   "file_extension": ".py",
   "mimetype": "text/x-python",
   "name": "python",
   "nbconvert_exporter": "python",
   "pygments_lexer": "ipython3",
   "version": "3.7.1"
  }
 },
 "nbformat": 4,
 "nbformat_minor": 2
}
