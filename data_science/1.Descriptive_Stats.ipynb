{
 "cells": [
  {
   "cell_type": "markdown",
   "metadata": {},
   "source": [
    "#### Data is distinct information \n",
    "# Data Types\n",
    "#### Quantitative and Categorical.\n",
    "\n",
    "##### Quantitative data takes on numeric values that allow us to perform mathematical operations (like the number of dogs).\n",
    "\n",
    "##### Categorical are used to label a group or set of items (like dog breeds - Collies, Labs, Poodles, etc.)."
   ]
  },
  {
   "cell_type": "markdown",
   "metadata": {},
   "source": [
    "# Quiz : \n",
    "#### for each variable bielow, identify each as either quantitative or categorical\n",
    "<ul>\n",
    "    <li>Zip Code </li>\n",
    "    <li>Age </li>\n",
    "    <li> Income </li>\n",
    "    <li> Marital Status (Single, Married, Divorced etc.)</li>\n",
    "    <li> Height </li>\n",
    "    <li> Letter Grades (A+, A, A-, B+, B, B-,...)</li>\n",
    "    <li> Travel Distance to Work </li>\n",
    "    <li> Ratings on a Survey (Poor, OK, Great) </li>\n",
    "    <li> Temperature </li>\n",
    "    <li> Average Speed </li>\n",
    "</ul>"
   ]
  },
  {
   "cell_type": "markdown",
   "metadata": {},
   "source": [
    "# Categorical Ordinal vs. Categorical Nominal\n",
    "#### We can divide categorical data further into two types: Ordinal and Nominal.\n",
    "\n",
    "##### Categorical Ordinal data take on a ranked ordering (like a ranked interaction on a scale from Very Poor to Very Good with the dogs).\n",
    "\n",
    "##### Categorical Nominal data do not have an order or ranking (like the breeds of the dog)."
   ]
  },
  {
   "cell_type": "markdown",
   "metadata": {},
   "source": [
    "# Continuous vs. Discrete\n",
    "#### We can think of quantitative data as being either continuous or discrete.\n",
    "\n",
    "###### Continuous data can be split into smaller and smaller units, and still a smaller unit exists. An example of this is the age of the dog - we can measure the units of the age in years, months, days, hours, seconds, but there are still smaller units that could be associated with the age.\n",
    "\n",
    "###### Discrete data only takes on countable values. The number of dogs we interact with is an example of a discrete data type.\n"
   ]
  },
  {
   "cell_type": "markdown",
   "metadata": {},
   "source": [
    "### Quantitative \n",
    "    Discrete -> 0,1,2,....\n",
    "    Continuous -> 0.1,0.2,1.5,....\n",
    "### Categorical \n",
    "    Ordinal -> High, Med, Low\n",
    "    Nominal --> Lab, Pug, Poddle,..."
   ]
  },
  {
   "cell_type": "raw",
   "metadata": {},
   "source": [
    "Data Types\t\t\n",
    "Quantitative:\t              \n",
    "         Continuous\t                               Discrete\n",
    "         \n",
    "Height, Age, Income, Pages in a Book,       Trees in Yard, Dogs at a Coffee Shop\n",
    "\n",
    "\n",
    "Categorical:\n",
    "\n",
    "        Ordinal\t                                        Nominal\n",
    "\n",
    "Letter Grade, Survey Rating\t        Gender, Marital Status, Breakfast Items\n"
   ]
  },
  {
   "cell_type": "markdown",
   "metadata": {},
   "source": [
    "Another Look\n",
    "To break down our data types, there are two main blocks:\n",
    "\n",
    "Quantitative and Categorical\n",
    "\n",
    "Quantitative can be further divided into Continuous or Discrete.\n",
    "\n",
    "Categorical data can be divided into Ordinal or Nominal.\n",
    "\n",
    "You should have now mastered what types of data in the world around us falls into each of these four buckets: Discrete, Continuous, Nominal, and Ordinal."
   ]
  },
  {
   "cell_type": "raw",
   "metadata": {},
   "source": []
  },
  {
   "cell_type": "markdown",
   "metadata": {},
   "source": [
    "##### Quantitative vs. Categorical\n",
    "\n",
    "Some of these can be a bit tricky -\n",
    "\n",
    "notice even though zip codes are a number, they aren’t really a quantitative variable. If we add two zip codes together, we do not obtain any useful information from this new value. Therefore, this is a categorical variable.\n",
    "\n",
    "Height, Age, the Number of Pages in a Book and Annual Income all take on values that we can add, subtract and perform other operations with to gain useful insight. Hence, these are quantitative.\n",
    "\n",
    "Gender, Letter Grade, Breakfast Type, Marital Status, and Zip Code can be thought of as labels for a group of items or individuals. Hence, these are categorical.\n",
    "\n",
    "##### Continuous vs. Discrete\n",
    "\n",
    "To consider if we have continuous or discrete data, we should see if we can split our data into smaller and smaller units. \n",
    "\n",
    "Consider time - we could measure an event in years, months, days, hours, minutes, or seconds, and even at seconds we know there are smaller units we could measure time in.Therefore, we know this data type is continuous.Height, age, and income are all examples of continuous data. \n",
    "\n",
    "\n",
    "Alternatively, the number of pages in a book, dogs I count outside a coffee shop, or trees in a yard are discrete data. We would not want to split our dogs in half.\n",
    "\n",
    "##### Ordinal vs. Nominal\n",
    "\n",
    "In looking at categorical variables, we found Gender, Marital Status, Zip Code and your Breakfast items are nominal variables where there is no order ranking associated with this type of data. Whether you ate cereal, toast, eggs, or only coffee for breakfast; there is no rank ordering associated with your breakfast.\n",
    "\n",
    "\n",
    "Alternatively, the Letter Grade or Survey Ratings have a rank ordering associated with it, as ordinal data. If you receive an A, this is higher than an A-. An A- is ranked higher than a B+, and so on... Ordinal variables frequently occur on rating scales from very poor to very good. In many cases we turn these ordinal variables into numbers, as we can more easily analyze them, but more on this later!\n",
    "\n",
    "### Final Words\n",
    "\n",
    "In this section, we looked at the different data types we might work with in the world around us. When we work with data in the real world, it might not be very clean - sometimes there are typos or missing values. When this is the case, simply having some expertise regarding the data and knowing the data type can assist in our ability to ‘clean’ this data. Understanding data types can also assist in our ability to build visuals to best explain the data. But more on this very soon!"
   ]
  },
  {
   "cell_type": "markdown",
   "metadata": {},
   "source": [
    "##### QUIZ QUESTION\n",
    "\n",
    "All of the variables below are categorical. Your task is to select the check box next to each variable that is nominal; \n",
    "\n",
    "do not check the ordinal categorical variables.\n",
    "\n",
    "    Letter Grades (A,B+,B,B-)\n",
    "    Types of Fruit(Apple,Banana,etc.)\n",
    "    Ratings on a Survey(Poor,Ok,Great)\n",
    "    Types of Dog Breeds(German Shepherd,Collie,etc.)\n",
    "    Genres of Moivies(Horror,Comedy,etc.)\n",
    "    Gender\n",
    "    Nationality\n",
    "    Education(HS,Associates,Bachelors,Masters,PhD,etc.)\n"
   ]
  },
  {
   "cell_type": "markdown",
   "metadata": {},
   "source": [
    "##### QUIZ QUESTION\n",
    "\n",
    "This quiz will ensure you have a clear understanding of the differences between quantitative continuous vs. discrete variables. \n",
    "\n",
    "All of the variables below are quantitative. Your task is select the check box next to each variable that is continuous;\n",
    "\n",
    "do not check the discrete variables.\n",
    "\n",
    "    Travel Distance from Home to Work\n",
    "    Number of Pages in Book\n",
    "    Amount of Rain in Year\n",
    "    Time to Run a Mile\n",
    "    Number of Movies Watched in a Week \n",
    "    Amount of Water Consumed in a Day\n",
    "    Number of Phones per Household"
   ]
  },
  {
   "cell_type": "markdown",
   "metadata": {},
   "source": [
    "### Analyzing Quantitative Data\n",
    "\n",
    "Four Aspects for Quantitative Data, There are four main aspects to analyzing Quantitative data.\n",
    "\n",
    "    Measures of Center\n",
    "    Measures of Spread\n",
    "    The Shape of the data.\n",
    "    Outliers\n",
    "\n",
    "### Analyzing Categorical Data\n",
    "\n",
    "Analyzing categorical data has fewer parts to consider. Categorical data is analyzed usually be looking at the counts or proportion of individuals that fall into each group. For example if we were looking at the breeds of the dogs, we would care about how many dogs are of each breed, or what proportion of dogs are of each breed type.\n",
    "\n",
    "#### Measures of Center\n",
    "\n",
    "There are three measures of center:\n",
    "\n",
    "    Mean\n",
    "    Median\n",
    "    Mode\n",
    "\n",
    "\n",
    "##### The Mean\n",
    "\n",
    "The mean is often called the average or the expected value in mathematics. We calculate the mean by adding all of our values together, and dividing by the number of values in our dataset.\n",
    "\n",
    "\n"
   ]
  },
  {
   "cell_type": "markdown",
   "metadata": {},
   "source": [
    "#### Measures of Center\n",
    "\n",
    "Q1. Which of the below are measures of center \n",
    "\n",
    "    Mean\n",
    "    Standard Deviation\n",
    "    Variance\n",
    "    Median\n",
    "    Inter-quartile Range\n",
    "    Mode\n",
    "    Range\n",
    "    Maximum\n",
    "    Minimum\n",
    "\n",
    "Q.2if We have the Data 5,8,15,7,10,22,3,1,15\n",
    "what is mean ? \n",
    "\n",
    "    7\n",
    "    9.56\n",
    "    15\n",
    "    8\n",
    "    8.5\n",
    "\n"
   ]
  },
  {
   "cell_type": "code",
   "execution_count": null,
   "metadata": {},
   "outputs": [],
   "source": []
  },
  {
   "cell_type": "markdown",
   "metadata": {},
   "source": [
    "#### The Median\n",
    "\n",
    "The median splits our data so that 50% of our values are lower and 50% are higher. We have learned that how we calculate the median depends on if we have an even number of observations or an odd number of observations.\n",
    "\n",
    "#### Median for Odd Values\n",
    "\n",
    "If we have an odd number of observations, the median is simply the number in the direct middle. For example, if we have 7 observations, the median is the fourth value when our numbers are ordered from smallest to largest. If we have 9 observations, the median is the fifth value.\n",
    "\n",
    "#### Median for Even Values\n",
    "\n",
    "If we have an even number of observations, the median is the average of the two values in the middle. For example, if we have 8 observations, we average the fourth and fifth values together when our numbers are ordered from smallest to largest.\n",
    "\n",
    "##### In order to compute the median we MUST sort our values first.\n",
    "\n",
    "Whether we use the mean or median to describe a dataset is largely dependent on the shape of our dataset and if there are any outliers. We will talk about this in just a bit!"
   ]
  },
  {
   "cell_type": "code",
   "execution_count": null,
   "metadata": {},
   "outputs": [],
   "source": []
  },
  {
   "cell_type": "markdown",
   "metadata": {},
   "source": [
    "Q.1 If we have the data \n",
    "\n",
    "5,8,15,7,10,22,3,1,15\n",
    "\n",
    "what is the median?\n",
    "\n",
    "    7\n",
    "    9.56\n",
    "    15\n",
    "    8\n",
    "    7.5\n",
    "\n",
    "\n",
    "Q2. If we have the data \n",
    "\n",
    "5,8,15,7,10,22,3,1,15,2\n",
    "\n",
    "what is the median ? \n",
    "\n",
    "    7\n",
    "    9.56\n",
    "    15\n",
    "    8\n",
    "    7.5"
   ]
  },
  {
   "cell_type": "code",
   "execution_count": null,
   "metadata": {},
   "outputs": [],
   "source": []
  },
  {
   "cell_type": "markdown",
   "metadata": {},
   "source": [
    "### The Mode\n",
    "\n",
    "The mode is the most frequently observed value in our dataset.\n",
    "\n",
    "There might be multiple modes for a particular dataset, or no mode at all.\n",
    "\n",
    "#### No Mode\n",
    "\n",
    "If all observations in our dataset are observed with the same frequency, there is no mode. If we have the dataset:\n",
    "\n",
    "    1, 1, 2, 2, 3, 3, 4, 4\n",
    "\n",
    "There is no mode, because all observations occur the same number of times.\n",
    "\n",
    "#### Many Modes\n",
    "\n",
    "If two (or more) numbers share the maximum value, then there is more than one mode. If we have the dataset:\n",
    "\n",
    "    1, 2, 3, 3, 3, 4, 5, 6, 6, 6, 7, 8, 9\n",
    "\n",
    "There are two modes 3 and 6, because these values share the maximum frequencies at 3 times, while all other values only appear once.\n"
   ]
  },
  {
   "cell_type": "raw",
   "metadata": {},
   "source": []
  },
  {
   "cell_type": "markdown",
   "metadata": {},
   "source": [
    "Q1. We want to summarize the number of dogs our friends have into a single number. We will use the measures of center for this problem. \n",
    "\n",
    "Ashley has 1 dog, Steve has 1 dog, Jeff has 2 dogs, Kylie has 3 dogs, and Lisa has 8 dogs.\n",
    "\n",
    "There is no best measure of center so we need to try all three to see what makes sense.\n",
    "\n",
    "What is the mean, median, and mode for the number of dogs our friends have?\n",
    "\n",
    "    Mean : 3    Median: 2    Mode:1\n",
    "\n",
    "    Mean : 2    Median: 2    Mode:8\n",
    "\n",
    "    Mean : 3    Median: 3    Mode: 1\n",
    "\n",
    "    Mean : 2    Median: 1    Mode: 8"
   ]
  },
  {
   "cell_type": "raw",
   "metadata": {},
   "source": []
  },
  {
   "cell_type": "markdown",
   "metadata": {},
   "source": [
    "#### Descriptive vs. Inferential Statistics\n",
    "\n",
    "In this section, we learned about how Inferential Statistics differs from Descriptive Statistics.\n",
    "\n",
    "#### Descriptive Statistics\n",
    "\n",
    "Descriptive statistics is about describing our collected data using the measures discussed throughout this lesson: measures of center, measures of spread, shape of our distribution, and outliers. We can also use plots of our data to gain a better understanding.\n",
    "\n",
    "#### Inferential Statistics\n",
    "\n",
    "Inferential Statistics is about using our collected data to draw conclusions to a larger population. Performing inferential statistics well requires that we take a sample that accurately represents our population of interest.\n",
    "\n",
    "A common way to collect data is via a survey. However, surveys may be extremely biased depending on the types of questions that are asked, and the way the questions are asked. This is a topic you should think about when tackling the first project.\n",
    "\n",
    "We looked at specific examples that allowed us to identify the\n",
    "\n",
    "    Population - our entire group of interest.\n",
    "    Parameter - numeric summary about a population\n",
    "    Sample - subset of the population\n",
    "    Statistic - numeric summary about a sample\n"
   ]
  },
  {
   "cell_type": "markdown",
   "metadata": {},
   "source": [
    "#### Quantitive Variables  Measures \n",
    "\n",
    "    Center\n",
    "    Spread\n",
    "    Shape\n",
    "    Outliers"
   ]
  },
  {
   "cell_type": "markdown",
   "metadata": {},
   "source": [
    "#### Measures of Spread\n",
    "\n",
    "Measures of Spread are used to provide us an idea of how spread out our data are from one another. Common measures of spread include:\n",
    "\n",
    "    Range\n",
    "    Interquartile Range (IQR)\n",
    "    Standard Deviation\n",
    "    Variance\n",
    "\n",
    "Throughout this lesson you will learn how to calculate these, as well as why we would use one measure of spread over another.\n",
    "\n"
   ]
  },
  {
   "cell_type": "raw",
   "metadata": {},
   "source": []
  },
  {
   "cell_type": "markdown",
   "metadata": {},
   "source": [
    "#### Histograms\n",
    "\n",
    "Histograms are super useful to understanding the different aspects of quantitative data. In the upcoming concepts, you will see histograms used all the time to help you understand the four aspects we outlined earlier regarding a quantitative variable:\n",
    "\n",
    "    center\n",
    "    spread\n",
    "    shape\n",
    "    outliers"
   ]
  },
  {
   "cell_type": "code",
   "execution_count": 6,
   "metadata": {},
   "outputs": [
    {
     "data": {
      "image/png": "[encoded data removed]",
      "text/plain": [
       "<Figure size 432x288 with 1 Axes>"
      ]
     },
     "metadata": {
      "needs_background": "light"
     },
     "output_type": "display_data"
    }
   ],
   "source": [
    "import numpy as np \n",
    "import matplotlib.pyplot as plt\n",
    "%matplotlib inline\n",
    "data = np.random.normal(55.5,10.5,1000)\n",
    "plt.hist(data,bins=30)\n",
    "plt.show()"
   ]
  },
  {
   "cell_type": "markdown",
   "metadata": {},
   "source": [
    "#### Calculating the 5 Number Summary\n",
    "\n",
    "The five number summary consist of 5 values:\n",
    "\n",
    "###### Minimum: The smallest number in the dataset.\n",
    "\n",
    "###### Q 1: The value such that 25% of the data fall below.\n",
    "\n",
    "###### Q 2: The value such that 50% of the data fall below.\n",
    "\n",
    "###### Q 3: The value such that 75% of the data fall below.\n",
    "\n",
    "###### Maximum: The largest value in the dataset.\n",
    "\n",
    "We saw that calculating each of these values was essentially just finding the median of a bunch of different dataset. Because we are essentially calculating a bunch of medians, the calculation depends on whether we have an odd or even number of values.\n",
    "\n",
    "###### Range\n",
    "\n",
    "The range is then calculated as the difference between the maximum and the minimum.\n",
    "\n",
    "###### IQR\n",
    "\n",
    "The interquartile range is calculated as the difference between Q3 and Q1 "
   ]
  },
  {
   "cell_type": "raw",
   "metadata": {},
   "source": []
  },
  {
   "cell_type": "markdown",
   "metadata": {},
   "source": [
    "\n",
    "What is the range associated with the following dataset?\n",
    "\n",
    "1, 5, 10, 3, 8, 12, 4, 1, 2, 8\n",
    "\n"
   ]
  },
  {
   "cell_type": "code",
   "execution_count": null,
   "metadata": {},
   "outputs": [],
   "source": []
  },
  {
   "cell_type": "markdown",
   "metadata": {},
   "source": [
    "Provided the values below, what is the value of the first quartile?\n",
    "\n",
    "Remember the first quartile is the median number (middle number) of the first half of the numbers when put in ranked order. Ranked order for this dataset is 1,1,2,3,4...\n",
    "\n",
    "1, 5, 10, 3, 8, 12, 4, 1, 2, 8\n",
    "\n"
   ]
  },
  {
   "cell_type": "code",
   "execution_count": null,
   "metadata": {},
   "outputs": [],
   "source": []
  },
  {
   "cell_type": "markdown",
   "metadata": {},
   "source": [
    "Provided the values below, what is the value of the third quartile?\n",
    "\n",
    "1, 5, 10, 3, 8, 12, 4, 1, 2, 8\n",
    "\n"
   ]
  },
  {
   "cell_type": "code",
   "execution_count": null,
   "metadata": {},
   "outputs": [],
   "source": []
  },
  {
   "cell_type": "markdown",
   "metadata": {},
   "source": [
    "Provided the values below, what is the value of the median? (this is the same as the second quartile)\n",
    "\n",
    "1, 5, 10, 3, 8, 12, 4, 1, 2, 8\n"
   ]
  },
  {
   "cell_type": "code",
   "execution_count": null,
   "metadata": {},
   "outputs": [],
   "source": []
  },
  {
   "cell_type": "markdown",
   "metadata": {},
   "source": [
    "Provided the values below, what is the value of the median? (this is the same as the second quartile)\n",
    "\n",
    "5, 10, 3, 8, 12, 4, 1, 2, 8\n",
    "\n"
   ]
  },
  {
   "cell_type": "code",
   "execution_count": null,
   "metadata": {},
   "outputs": [],
   "source": []
  },
  {
   "cell_type": "markdown",
   "metadata": {},
   "source": [
    "\n",
    "Provided the values below, what is the range? (The range should just be a single number)\n",
    "\n",
    "5, 10, 3, 8, 12, 4, 1, 2, 8\n"
   ]
  },
  {
   "cell_type": "code",
   "execution_count": null,
   "metadata": {},
   "outputs": [],
   "source": []
  },
  {
   "cell_type": "markdown",
   "metadata": {},
   "source": [
    "Provided the values below, what is the the value for the first quartile?\n",
    "\n",
    "5, 10, 3, 8, 12, 4, 1, 2, 8\n",
    "\n"
   ]
  },
  {
   "cell_type": "code",
   "execution_count": null,
   "metadata": {},
   "outputs": [],
   "source": []
  },
  {
   "cell_type": "markdown",
   "metadata": {},
   "source": [
    "Provided the values below, what is the the value for the third quartile?\n",
    "\n",
    "5, 10, 3, 8, 12, 4, 1, 2, 8\n",
    "\n"
   ]
  },
  {
   "cell_type": "code",
   "execution_count": null,
   "metadata": {},
   "outputs": [],
   "source": []
  },
  {
   "cell_type": "markdown",
   "metadata": {},
   "source": [
    "#### Standard Deviation and Variance\n",
    "\n",
    "The standard deviation is one of the most common measures for talking about the spread of data. It is defined as the average distance of each observation from the mean.\n",
    "\n"
   ]
  },
  {
   "cell_type": "code",
   "execution_count": null,
   "metadata": {},
   "outputs": [],
   "source": []
  },
  {
   "cell_type": "markdown",
   "metadata": {},
   "source": [
    "#### For the following set of data provide the value of the variance.\n",
    "\n",
    "Remember to find the variance we first find the mean average of the values, then subtract the mean from each value, then square each of these values, then add them up, then divide by the number of values. (Round your answer to two decimal places at the end of your calculation - don't round along the way.)\n",
    "\n",
    "1, 5, 10, 3, 8, 12, 4\n",
    "\n"
   ]
  },
  {
   "cell_type": "code",
   "execution_count": null,
   "metadata": {},
   "outputs": [],
   "source": []
  },
  {
   "cell_type": "markdown",
   "metadata": {},
   "source": [
    "For the following set of data provide the value of the standard deviation.\n",
    "\n",
    "Remember the standard deviation is the square root of the variance (Round your answer to two decimal places at the end of your calculation.)\n",
    "\n",
    "1, 5, 10, 3, 8, 12, 4\n",
    "\n"
   ]
  },
  {
   "cell_type": "code",
   "execution_count": null,
   "metadata": {},
   "outputs": [],
   "source": []
  },
  {
   "cell_type": "markdown",
   "metadata": {},
   "source": [
    "##### Other Measures of Spread\n",
    "\n",
    "###### 5 Number Summary\n",
    "\n",
    "In the previous sections, we have seen how to calculate the values associated with the five number summary (min, Q1, Q2,Q3,max), as well as the measures of spread associated with these values (range and IQR).\n"
   ]
  },
  {
   "cell_type": "markdown",
   "metadata": {},
   "source": [
    "\n",
    "For datasets that are not symmetric, the five number summary and a corresponding box plot are a great way to get started with understanding the spread of your data. Although I still prefer a histogram in most cases, box plots can be easier to compare two or more groups.\n",
    "\n",
    "\n",
    "##### Variance and Standard Deviation\n",
    "\n",
    "Two additional measures of spread that are used all the time are the variance and standard deviation. At first glance, the variance and standard deviation can seem overwhelming.\n",
    "\n",
    "Question to answer before choosing standard deviation or variance \n",
    "\n",
    "    How the mean, variance and standard deviation are calculated ? \n",
    "    Why the measures of variance and standard deviation make sense to capture the spread of our data ? \n",
    "    Fields where you might see these values used ? \n",
    "    Why we might use the standard deviation or variance as opposed to the   values associated with the 5 number summary for a particular dataset ?\n",
    "        "
   ]
  },
  {
   "cell_type": "markdown",
   "metadata": {},
   "source": [
    "#### Calculation\n",
    "\n",
    "We calculate the variance in the following way:\n",
    "\n",
    "$$ \\frac{1}{n}\\sum\\limits_{i=1}^n(x_i - \\bar{x})^2 $$ \n",
    "\n",
    "The variance is the average squared difference of each observation from the mean.\n",
    "\n",
    "\n",
    "The standard deviation is the square root of the variance. Therefore, the formula for the standard deviation is the following:\n",
    "\n",
    "$$ \\sqrt{\\frac{1}{n}\\sum\\limits_{i=1}^n(x_i - \\bar{x})^2} $$ \n",
    "\n",
    "\n",
    "The standard deviation is a measurement that has the same units as our original data, while the units of the variance are the square of the units in our original data.\n",
    "\n",
    "For example, if the units in our original data were dollars, then units of the standard deviation would also be dollars, while the units of the variance would be dollars squared.\n"
   ]
  },
  {
   "cell_type": "code",
   "execution_count": null,
   "metadata": {},
   "outputs": [],
   "source": []
  },
  {
   "cell_type": "markdown",
   "metadata": {},
   "source": [
    "#### Important Final Points\n",
    "\n",
    "The variance is used to compare the spread of two different groups. A set of data with higher variance is more spread out than a dataset with lower variance. Be careful though, there might just be an outlier (or outliers) that is increasing the variance, when most of the data are actually very close.\n",
    "\n",
    "\n",
    "When comparing the spread between two datasets, the units of each must be the same.\n",
    "\n",
    "\n",
    "When data are related to money or the economy, higher variance (or standard deviation) is associated with higher risk.\n",
    "\n",
    "\n",
    "The standard deviation is used more often in practice than the variance, because it shares the units of the original dataset.\n",
    "\n",
    "##### Use in the World\n",
    "\n",
    "The standard deviation is associated with risk in finance, assists in determining the significance of drugs in medical studies, and measures the error of our results for predicting anything from the amount of rainfall we can expect tomorrow to your predicted commute time tomorrow.\n",
    "\n",
    "These applications are beyond the scope of this course as they pertain to specific fields, but know that understanding the spread of a particular set of data is extremely important to many areas. In this lesson you mastered the calculation of the most common measures of spread.\n",
    "\n"
   ]
  },
  {
   "cell_type": "code",
   "execution_count": null,
   "metadata": {},
   "outputs": [],
   "source": []
  },
  {
   "cell_type": "markdown",
   "metadata": {},
   "source": [
    "#### Measures of Center and Spread Summary\n",
    "\n",
    "###### Variable Types\n",
    "\n",
    "We have covered a lot up to this point! We started with identifying data types as either categorical or quantitative. We then learned, we could identify quantitative variables as either continuous or discrete. We also found we could identify categorical variables as either ordinal or nominal.\n",
    "\n",
    "###### Categorical Variables\n",
    "\n",
    "When analyzing categorical variables, we commonly just look at the count or percent of a group that falls into each level of a category. For example, if we had two levels of a dog category: lab and not lab. We might say, 32% of the dogs were lab (percent), or we might say 32 of the 100 dogs I saw were labs (count).\n",
    "\n",
    "However, the 4 aspects associated with describing quantitative variables are not used to describe categorical variables.\n",
    "\n",
    "###### Quantitative Variables\n",
    "\n",
    "Then we learned there are four main aspects used to describe quantitative variables:\n",
    "\n",
    "    Measures of Center\n",
    "    Measures of Spread\n",
    "    Shape of the Distribution\n",
    "    Outliers\n",
    "\n",
    "###### We looked at calculating measures of Center\n",
    "\n",
    "    Means\n",
    "    Medians\n",
    "    Modes\n",
    "    \n",
    "###### We also looked at calculating measures of Spread\n",
    "\n",
    "Range\n",
    "    Interquartile Range\n",
    "    Standard Deviation\n",
    "    Variance\n",
    "    Calculating Variance\n",
    "\n",
    "\n",
    "###### We saw that we could calculate the variance as:\n",
    "\n",
    "$$ {\\frac{1}{n}\\sum\\limits_{i=1}^n(x_i - \\bar{x})^2} $$ \n",
    "\n",
    "You will also see:\n",
    "\n",
    "$$ {\\frac{1}{n-1}\\sum\\limits_{i=1}^n(x_i - \\bar{x})^2} $$\n",
    " \n",
    "\n",
    "The reason for this is beyond the scope of what we have covered thus far, but you can find an explanation here.\n",
    "\n",
    "You can commonly find answers to your questions with a quick Google search. Now is a great time to get started with this practice! This answer should make more sense at the completion of this lesson.\n",
    "\n",
    "\n",
    "#### Standard Deviation vs. Variance\n",
    "\n",
    "The standard deviation is the square root of the variance. In practice, you usually use the standard deviation rather than the variance. The reason for this is because the standard deviation shares the same units with our original data, while the variance has squared units.\n",
    "\n",
    "\n"
   ]
  },
  {
   "cell_type": "raw",
   "metadata": {},
   "source": []
  },
  {
   "cell_type": "markdown",
   "metadata": {},
   "source": [
    "#### Histograms\n",
    "\n",
    "We learned how to build a histogram in this video, as this is the most popular visual for quantitative data.\n",
    "\n",
    "##### Shape\n",
    "\n",
    "From a histogram we can quickly identify the shape of our data, which helps influence all of the measures we learned in the previous concepts. We learned that the distribution of our data is frequently associated with one of the three shapes:\n",
    "\n",
    "    1. Right-skewed\n",
    "\n",
    "    2. Left-skewed\n",
    "\n",
    "    3. Symmetric (frequently normally distributed)\n",
    "\n",
    "##### Summary\n",
    "\n",
    "###### Shape, Mean vs. Median\tReal World Applications\n",
    "\n",
    "###### Symmetric (Normal)Mean equals Median\t\n",
    "\n",
    "Height, Weight, Errors, Precipitation\n",
    "\n",
    "###### Right-skewed\tMean greater than Median\t\n",
    "\n",
    "Amount of drug remaining in a blood stream, Time between phone calls at a call center, Time until light bulb dies\n",
    "\n",
    "###### Left-skewed\tMean less than Median\t\n",
    "\n",
    "Grades as a percentage in many universities, Age of death, Asset price changes\n",
    "\n",
    "\n",
    "###### The mode of a distribution is essentially the tallest bar in a histogram. There may be multiple modes depending on the number of peaks in our histogram."
   ]
  },
  {
   "cell_type": "code",
   "execution_count": null,
   "metadata": {},
   "outputs": [],
   "source": []
  },
  {
   "cell_type": "code",
   "execution_count": 4,
   "metadata": {},
   "outputs": [],
   "source": [
    " # Bell Curve Normal Distribution "
   ]
  },
  {
   "cell_type": "markdown",
   "metadata": {},
   "source": [
    "References\n",
    "These are the references used to pull the applications of each shape.\n",
    "\n",
    "Quora https://www.quora.com/What-are-some-real-world-examples-of-normally-distributed-quantities\n",
    "    \n",
    "\n",
    "University of Texas https://www.utdallas.edu/~scniu/OPRE-6301/documents/Important_Probability_Distributions.pdf\n",
    "\n",
    "Stack Exchange https://stats.stackexchange.com/questions/89179/real-life-examples-of-distributions-with-negative-skewness"
   ]
  },
  {
   "cell_type": "raw",
   "metadata": {},
   "source": []
  },
  {
   "cell_type": "markdown",
   "metadata": {},
   "source": [
    "#### Outliers\n",
    "\n",
    "We learned that outliers are points that fall very far from the rest of our data points. This influences measures like the mean and standard deviation much more than measures associated with the five number summary.\n",
    "\n",
    "##### Identifying Outliers\n",
    "\n",
    "There are a number of different techniques for identifying outliers. A full paper on this topic is provided here. In general, I usually just look at a picture and see if something looks suspicious!"
   ]
  },
  {
   "cell_type": "markdown",
   "metadata": {},
   "source": [
    "Source http://d-scholarship.pitt.edu/7948/1/Seo.pdf"
   ]
  },
  {
   "cell_type": "markdown",
   "metadata": {},
   "source": []
  },
  {
   "cell_type": "markdown",
   "metadata": {},
   "source": [
    "#### Common Techniques\n",
    "\n",
    "When outliers are present we should consider the following points.\n",
    "\n",
    "    1. Nothing they exist and they impact on summary statistics.\n",
    "\n",
    "    2. remove or fix\n",
    "\n",
    "    3. Understanding why they exist, and the impact on questions we are trying to answer about our data.\n",
    "\n",
    "    4. Reporting the 5 number summary values is often a better indication than measures like the mean and standard deviation when we have outliers.\n",
    "\n",
    "    5. Be careful in reporting. Know how to ask the right questions.\n"
   ]
  },
  {
   "cell_type": "markdown",
   "metadata": {},
   "source": [
    "sources https://data.library.virginia.edu/understanding-q-q-plots/\n",
    "https://en.wikipedia.org/wiki/Kolmogorov%E2%80%93Smirnov_test"
   ]
  },
  {
   "cell_type": "markdown",
   "metadata": {},
   "source": []
  },
  {
   "cell_type": "markdown",
   "metadata": {},
   "source": [
    "#### Descriptive vs. Inferential Statistics\n",
    "\n",
    "In this section, we learned about how Inferential Statistics differs from \n",
    "\n",
    "\n",
    "    Descriptive statistics is about describing our collected data.\n",
    "\n",
    "    Inferential Statistics is about using our collected data to draw conclusions to a larger population.\n",
    "\n",
    "\n",
    "We looked at specific examples that allowed us to identify the\n",
    "\n",
    "    Population - our entire group of interest.\n",
    "\n",
    "    Parameter - numeric summary about a population\n",
    "\n",
    "    Sample - subset of the population\n",
    "\n",
    "    Statistic numeric summary about a sample\n"
   ]
  },
  {
   "cell_type": "raw",
   "metadata": {},
   "source": []
  },
  {
   "cell_type": "markdown",
   "metadata": {},
   "source": [
    "#### Descriptive vs. Inferential Summary\n",
    "\n",
    "In this section, we learned about how Inferential Statistics differs from \n",
    "\n",
    "#### Descriptive Statistics.\n",
    "\n",
    "Descriptive statistics is about describing our collected data using the measures discussed throughout this lesson: measures of center, measures of spread, shape of our distribution, and outliers. We can also use plots of our data to gain a better understanding.\n",
    "\n",
    "#### Inferential Statistics\n",
    "\n",
    "Inferential Statistics is about using our collected data to draw conclusions to a larger population. Performing inferential statistics well requires that we take a sample that accurately represents our population of interest.\n",
    "\n",
    "A common way to collect data is via a survey. However, surveys may be extremely biased depending on the types of questions that are asked, and the way the questions are asked. This is a topic you should think about when tackling the first project.\n",
    "\n",
    "##### Looking Ahead\n",
    "\n",
    "Though we will not be diving deep into inferential statistics within this course, you are now aware of the difference between these two avenues of statistics. If you have ever conducted a hypothesis test or built a confidence interval, you have performed inferential statistics. \n",
    "\n",
    "The way we perform inferential statistics is changing as technology evolves. Many career paths involving Machine Learning and Artificial Intelligence are aimed at using collected data to draw conclusions about entire populations at an individual level. It is an exciting time to be a part of this space, and you are now well on your way to joining the other practitioners!\n"
   ]
  }
 ],
 "metadata": {
  "kernelspec": {
   "display_name": "Python 3",
   "language": "python",
   "name": "python3"
  },
  "language_info": {
   "codemirror_mode": {
    "name": "ipython",
    "version": 3
   },
   "file_extension": ".py",
   "mimetype": "text/x-python",
   "name": "python",
   "nbconvert_exporter": "python",
   "pygments_lexer": "ipython3",
   "version": "3.7.1"
  }
 },
 "nbformat": 4,
 "nbformat_minor": 2
}
